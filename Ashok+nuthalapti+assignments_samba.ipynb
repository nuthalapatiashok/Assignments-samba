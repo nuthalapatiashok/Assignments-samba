{
 "cells": [
  {
   "cell_type": "code",
   "execution_count": 1,
   "metadata": {
    "collapsed": false
   },
   "outputs": [
    {
     "name": "stdout",
     "output_type": "stream",
     "text": [
      "Enter actual string :ashok nutha\n",
      "Enter substr:nutha\n",
      "nutha is subpart of ashok nutha\n"
     ]
    }
   ],
   "source": [
    "#2. Write a program to chek given substring is there in actual string or not? (search should be case insensitive)\n",
    "\n",
    "actual=raw_input(\"Enter actual string :\").lower()\n",
    "sub=raw_input(\"Enter substr:\").lower()\n",
    "if sub in actual:    \n",
    "        print \"{} is subpart of {}\".format(sub,actual)"
   ]
  },
  {
   "cell_type": "code",
   "execution_count": 2,
   "metadata": {
    "collapsed": false
   },
   "outputs": [
    {
     "name": "stdout",
     "output_type": "stream",
     "text": [
      "Enter a number:24\n",
      "24 is Even number\n"
     ]
    }
   ],
   "source": [
    "#3.#take a number from the user and check whether even or odd\n",
    "try:\n",
    "    userinput=raw_input(\"Enter a number:\")\n",
    "\n",
    "    while userinput.isdigit():\n",
    "        userinput1=int(userinput)\n",
    "        \n",
    "        if userinput1%2==0:\n",
    "            print \"{} is Even number\".format(userinput1)\n",
    "        elif userinput1%2!=0:\n",
    "             print \"{} is Odd number\".format(userinput1)\n",
    "        break\n",
    "except Exception as err:\n",
    "    print err"
   ]
  },
  {
   "cell_type": "code",
   "execution_count": 3,
   "metadata": {
    "collapsed": false
   },
   "outputs": [
    {
     "name": "stdout",
     "output_type": "stream",
     "text": [
      "Enter a number:23\n",
      "23 is a Prime Number \n"
     ]
    }
   ],
   "source": [
    "#4. # take a number from the user and check whether it is prime?\n",
    "number=int(input(\"Enter a number:\"))\n",
    "\n",
    "if number>0:\n",
    "    for i in range(2,number):\n",
    "        if (number %i) ==0:\n",
    "            print \"{} is not a Prime number \".format(number)\n",
    "            break\n",
    "    else:\n",
    "        print \"{} is a Prime Number \".format(number)"
   ]
  },
  {
   "cell_type": "code",
   "execution_count": 4,
   "metadata": {
    "collapsed": false
   },
   "outputs": [
    {
     "name": "stdout",
     "output_type": "stream",
     "text": [
      "Enter a string :asd34\n",
      "'asd34' also contains other alphabets\n"
     ]
    }
   ],
   "source": [
    "# 5. take a string from the user and check contains only digits or not?\n",
    "userinput=raw_input(\"Enter a string :\")\n",
    "while True:\n",
    "    if userinput.isdigit():\n",
    "        print \"'{}' is contains only digits\".format(userinput)\n",
    "    else:\n",
    "        print \"'{}' also contains other alphabets\".format(userinput)\n",
    "    break"
   ]
  },
  {
   "cell_type": "code",
   "execution_count": 5,
   "metadata": {
    "collapsed": false
   },
   "outputs": [
    {
     "name": "stdout",
     "output_type": "stream",
     "text": [
      "Enter a string :ad1212\n",
      "'ad1212' is not pure alphabets\n"
     ]
    }
   ],
   "source": [
    "#6. take a string from the user and check contains only  alphabets or not?\n",
    "\n",
    "while True:\n",
    "    userinput=raw_input(\"Enter a string :\")\n",
    "    if userinput.isalpha():\n",
    "         \n",
    "        print \"'{}' is a pure alphabet string \".format(userinput)\n",
    "    else:\n",
    "        print \"'{}' is not pure alphabets\".format(userinput)\n",
    "    break"
   ]
  },
  {
   "cell_type": "code",
   "execution_count": 6,
   "metadata": {
    "collapsed": false
   },
   "outputs": [
    {
     "name": "stdout",
     "output_type": "stream",
     "text": [
      "Enter a string :Asdsfs\n",
      "'Asdsfs' is not a upper case letter\n"
     ]
    }
   ],
   "source": [
    "#8. take a string from the user and check contains only  capiatl letters or not?\n",
    "while True:\n",
    "    userinput=raw_input(\"Enter a string :\")\n",
    "    if userinput.isalpha():\n",
    "        if userinput.isupper():\n",
    "            print \"'{}' is a upper case letter \".format(userinput)           \n",
    "        else:\n",
    "            print \"'{}' is not a upper case letter\".format(userinput)\n",
    "    else:\n",
    "         print \"'{}' contains other than alphabet letter\".format(userinput)\n",
    "        \n",
    "    break"
   ]
  },
  {
   "cell_type": "code",
   "execution_count": 7,
   "metadata": {
    "collapsed": false
   },
   "outputs": [
    {
     "name": "stdout",
     "output_type": "stream",
     "text": [
      "Enter a string :ASSS\n",
      "'ASSS' is not a lower case letter\n"
     ]
    }
   ],
   "source": [
    "#9.take a string from the user and check contains only  small letters or not?\n",
    "while True:\n",
    "    userinput=raw_input(\"Enter a string :\")\n",
    "    if userinput.isalpha():\n",
    "        if userinput.islower():\n",
    "            print \"'{}' is a lower case letter \".format(userinput)           \n",
    "        else:\n",
    "            print \"'{}' is not a lower case letter\".format(userinput)\n",
    "    else:\n",
    "         print \"'{}' contains other than alphabet letter\".format(userinput)\n",
    "        \n",
    "    break\n",
    "    "
   ]
  },
  {
   "cell_type": "code",
   "execution_count": 10,
   "metadata": {
    "collapsed": false
   },
   "outputs": [
    {
     "ename": "SyntaxError",
     "evalue": "invalid syntax (<ipython-input-10-4a20c56fec3f>, line 2)",
     "output_type": "error",
     "traceback": [
      "\u001b[0;36m  File \u001b[0;32m\"<ipython-input-10-4a20c56fec3f>\"\u001b[0;36m, line \u001b[0;32m2\u001b[0m\n\u001b[0;31m    Menu:\u001b[0m\n\u001b[0m        ^\u001b[0m\n\u001b[0;31mSyntaxError\u001b[0m\u001b[0;31m:\u001b[0m invalid syntax\n"
     ]
    }
   ],
   "source": [
    "# 10. Show the below menu to the user until and until user select quit and display corresponding os message\n",
    "Menu:\n",
    "1. windows\n",
    "2. Linux\n",
    "3. Mac\n",
    "4. quit\n",
    "while True: \n",
    "    print \" Menu : \\n\\n 1.Windows \\n 2.Linux \\n 3.Mac \\n 4.Quit\"\n",
    "\n",
    "    opt=raw_input(\"Enter your option:\")\n",
    "    if opt==\"1\":\n",
    "        print \"User selected 'windows' os\"\n",
    "    elif opt==\"2\":\n",
    "        print \"User selected 'Linux' os \"\n",
    "    elif opt==\"3\":\n",
    "        print \"User selected 'Mac' os\"        \n",
    "   \n",
    "    elif opt==\"4\":\n",
    "        print \"User select 'Quit'\"\n",
    "        break\n",
    "    else:\n",
    "        \n",
    "        print \"Please input a valid option\""
   ]
  },
  {
   "cell_type": "code",
   "execution_count": 12,
   "metadata": {
    "collapsed": false
   },
   "outputs": [
    {
     "name": "stdout",
     "output_type": "stream",
     "text": [
      "Enter a string :asdhd\n",
      "'asdhd' not contains digit \n"
     ]
    }
   ],
   "source": [
    "# 11. take a string from the user and check contains atleast one digit or not?\n",
    "\n",
    "userinput=raw_input(\"Enter a string :\")\n",
    "\n",
    "for i in range(0,len(userinput)):\n",
    "    if userinput[i].isdigit():\n",
    "        print \"'{}' contains digits \".format(userinput)\n",
    "        break\n",
    "else:\n",
    "    \n",
    "    print \"'{}' not contains digit \".format(userinput)\n"
   ]
  },
  {
   "cell_type": "code",
   "execution_count": 13,
   "metadata": {
    "collapsed": false
   },
   "outputs": [
    {
     "name": "stdout",
     "output_type": "stream",
     "text": [
      "Enter a string :asdaf23\n",
      "'asdaf23' contains alphabets \n"
     ]
    },
    {
     "data": {
      "text/plain": [
       "'\\n\\n\\nimport re\\n\\nuser_input= raw_input(\"Enter a vlaue:\")\\n\\nif re.search(\"[a-zA-Z]\",user_input):\\n    print \"\\'{}\\' contains a alphabets\".format(user_input)\\nelse :\\n    print \"\\'{}\\' does not contains a alphabets\".format(user_input)\\n    '"
      ]
     },
     "execution_count": 13,
     "metadata": {},
     "output_type": "execute_result"
    }
   ],
   "source": [
    "\n",
    "#12. take a string from the user and check contains atleast one alphabets or not?\n",
    "userinput=raw_input(\"Enter a string :\")\n",
    "\n",
    "for letter in userinput:\n",
    "    if letter.isalpha():\n",
    "        print \"'{}' contains alphabets \".format(userinput)\n",
    "        break\n",
    "else:\n",
    "    print \"'{}' not contains alphabets \".format(userinput)\n",
    "\t\n",
    "'''\n",
    "\n",
    "\n",
    "import re\n",
    "\n",
    "user_input= raw_input(\"Enter a vlaue:\")\n",
    "\n",
    "if re.search(\"[a-zA-Z]\",user_input):\n",
    "    print \"'{}' contains a alphabets\".format(user_input)\n",
    "else :\n",
    "    print \"'{}' does not contains a alphabets\".format(user_input)\n",
    "    '''"
   ]
  },
  {
   "cell_type": "code",
   "execution_count": 14,
   "metadata": {
    "collapsed": false
   },
   "outputs": [
    {
     "name": "stdout",
     "output_type": "stream",
     "text": [
      "Enter a string :@#@@@\n",
      "'@#@@@'contains chars \n"
     ]
    }
   ],
   "source": [
    "#13. take a string from the user and check contains atleast one chars or not?\t\n",
    "userinput=raw_input(\"Enter a string :\")\n",
    "if len(userinput) <=0:\n",
    "    print \"'{}' does not contains chars \".format(userinput)\n",
    "else:\n",
    "    print \"'{}'contains chars \".format(userinput)"
   ]
  },
  {
   "cell_type": "code",
   "execution_count": 15,
   "metadata": {
    "collapsed": false
   },
   "outputs": [
    {
     "name": "stdout",
     "output_type": "stream",
     "text": [
      "Enter a string :Asdsdlk\n",
      "'Asdsdlk' contains Capital letter \n"
     ]
    }
   ],
   "source": [
    "\n",
    "#14. take a string from the user and check contains atleast one capital letter or not?\n",
    "userinput=raw_input(\"Enter a string :\")\n",
    "\n",
    "for letter in userinput:\n",
    "    if letter.isupper():\n",
    "        print \"'{}' contains Capital letter \".format(userinput)\n",
    "        break\n",
    "else:\n",
    "    print \"'{}' not contains Capital letter  \".format(userinput)"
   ]
  },
  {
   "cell_type": "code",
   "execution_count": 16,
   "metadata": {
    "collapsed": false
   },
   "outputs": [
    {
     "name": "stdout",
     "output_type": "stream",
     "text": [
      "Enter a string :asdA\n",
      "'asdA' contains lower letter \n"
     ]
    }
   ],
   "source": [
    "#15. take a string from the user and check contains atleast one small letter or not?\n",
    "userinput=raw_input(\"Enter a string :\")\n",
    "\n",
    "for letter in userinput:\n",
    "    if letter.islower():\n",
    "        print \"'{}' contains lower letter \".format(userinput)\n",
    "        break\n",
    "else:\n",
    "    print \"'{}' not contains lower letter  \".format(userinput)"
   ]
  },
  {
   "cell_type": "code",
   "execution_count": 19,
   "metadata": {
    "collapsed": false
   },
   "outputs": [
    {
     "name": "stdout",
     "output_type": "stream",
     "text": [
      "Enter number of people planned for journey:450\n",
      "Enter your estimated buses based on the number of please planned for journey:42\n",
      "Enter No of seats in the bus:20\n"
     ]
    },
    {
     "ename": "NameError",
     "evalue": "global name 'Total_People' is not defined",
     "output_type": "error",
     "traceback": [
      "\u001b[0;31m---------------------------------------------------------------------------\u001b[0m",
      "\u001b[0;31mNameError\u001b[0m                                 Traceback (most recent call last)",
      "\u001b[0;32m<ipython-input-19-9059c0d011a7>\u001b[0m in \u001b[0;36m<module>\u001b[0;34m()\u001b[0m\n\u001b[1;32m     14\u001b[0m \u001b[1;33m\u001b[0m\u001b[0m\n\u001b[1;32m     15\u001b[0m \u001b[0mData\u001b[0m\u001b[1;33m=\u001b[0m\u001b[0muser_plan_travel\u001b[0m\u001b[1;33m(\u001b[0m\u001b[1;33m)\u001b[0m\u001b[1;33m\u001b[0m\u001b[0m\n\u001b[0;32m---> 16\u001b[0;31m \u001b[0mData1\u001b[0m\u001b[1;33m=\u001b[0m\u001b[0mtravel_agent_estimation\u001b[0m\u001b[1;33m(\u001b[0m\u001b[1;33m)\u001b[0m\u001b[1;33m\u001b[0m\u001b[0m\n\u001b[0m\u001b[1;32m     17\u001b[0m \u001b[1;32mif\u001b[0m \u001b[0mData\u001b[0m\u001b[1;33m==\u001b[0m\u001b[0mData1\u001b[0m\u001b[1;33m:\u001b[0m\u001b[1;33m\u001b[0m\u001b[0m\n\u001b[1;32m     18\u001b[0m     \u001b[1;32mprint\u001b[0m \u001b[1;34m'correct estimation'\u001b[0m\u001b[1;33m\u001b[0m\u001b[0m\n",
      "\u001b[0;32m<ipython-input-19-9059c0d011a7>\u001b[0m in \u001b[0;36mtravel_agent_estimation\u001b[0;34m()\u001b[0m\n\u001b[1;32m      9\u001b[0m \u001b[1;32mdef\u001b[0m \u001b[0mtravel_agent_estimation\u001b[0m\u001b[1;33m(\u001b[0m\u001b[1;33m)\u001b[0m\u001b[1;33m:\u001b[0m\u001b[1;33m\u001b[0m\u001b[0m\n\u001b[1;32m     10\u001b[0m \u001b[1;33m\u001b[0m\u001b[0m\n\u001b[0;32m---> 11\u001b[0;31m     \u001b[0mActual_Buses\u001b[0m\u001b[1;33m=\u001b[0m\u001b[0mTotal_People\u001b[0m\u001b[1;33m/\u001b[0m\u001b[0mTotal_No_of_Seats\u001b[0m\u001b[1;33m\u001b[0m\u001b[0m\n\u001b[0m\u001b[1;32m     12\u001b[0m     \u001b[1;32mreturn\u001b[0m \u001b[0mActual_Buses\u001b[0m\u001b[1;33m\u001b[0m\u001b[0m\n\u001b[1;32m     13\u001b[0m \u001b[1;33m\u001b[0m\u001b[0m\n",
      "\u001b[0;31mNameError\u001b[0m: global name 'Total_People' is not defined"
     ]
    }
   ],
   "source": [
    "#16. Take the input from the user for(Total number of people, toatl number of busses, Number of seats for bus). Based on the input\n",
    "#de whether there is sufficient busses or not and give solution for how many extra busses required.\n",
    "\n",
    "def user_plan_travel():\n",
    "    Total_People=input('Enter number of people planned for journey:')\n",
    "    Total_Buses=input('Enter your estimated buses based on the number of please planned for journey:')\n",
    "    Total_No_of_Seats=input('Enter No of seats in the bus:')\n",
    "    return Total_Buses\n",
    "def travel_agent_estimation():\n",
    "\n",
    "    Actual_Buses=Total_People/Total_No_of_Seats\n",
    "    return Actual_Buses\n",
    "    \n",
    "    \n",
    "Data=user_plan_travel()\n",
    "Data1=travel_agent_estimation()\n",
    "if Data==Data1:\n",
    "    print 'correct estimation'\n",
    "    print 'Bus count is',Total_Buses\n",
    "\n",
    "elif (Actual_Buses)*(Total_No_of_Seats)== Total_People:\n",
    "    print 'Incorrect estimation'\n",
    "    print 'correct bus count is', Actual_Buses\n",
    "else:\n",
    "    Actual_Buses=Actual_Buses+1\n",
    "    print 'correct bus count is',Actual_Buses "
   ]
  },
  {
   "cell_type": "code",
   "execution_count": 20,
   "metadata": {
    "collapsed": false
   },
   "outputs": [
    {
     "name": "stdout",
     "output_type": "stream",
     "text": [
      "100\n",
      "[2, 4, 6, 8, 10, 12, 14, 16, 18, 20, 22, 24, 26, 28, 30, 32, 34, 36, 38, 40, 42, 44, 46, 48, 50, 52, 54, 56, 58, 60, 62, 64, 66, 68, 70, 72, 74, 76, 78, 80, 82, 84, 86, 88, 90, 92, 94, 96, 98, 100, 102, 104, 106, 108, 110, 112, 114, 116, 118, 120, 122, 124, 126, 128, 130, 132, 134, 136, 138, 140, 142, 144, 146, 148, 150, 152, 154, 156, 158, 160, 162, 164, 166, 168, 170, 172, 174, 176, 178, 180, 182, 184, 186, 188, 190, 192, 194, 196, 198, 200]\n"
     ]
    }
   ],
   "source": [
    "#17. Print the first 100 odd numbers\n",
    "def odd100(userin):\n",
    "    userin=range(1,500)\n",
    "    l2=[]\n",
    "    for i in userin:\n",
    "        if i%2==0:\n",
    "            l2.append(i)\n",
    "        if len(l2) == 100:\n",
    "            break\n",
    "    print len(l2)\n",
    "    print l2\n",
    "odd100(range(300))\n"
   ]
  },
  {
   "cell_type": "code",
   "execution_count": 26,
   "metadata": {
    "collapsed": false
   },
   "outputs": [
    {
     "name": "stdout",
     "output_type": "stream",
     "text": [
      "enter number to find its factors: 10\n",
      "1\n",
      "2\n",
      "5\n",
      "10\n"
     ]
    }
   ],
   "source": [
    "#18. Determine the factors of a number entered  by the user\n",
    "while True:\n",
    "        num = input(\"enter number to find its factors: \")\n",
    "        for i in range(num):\n",
    "            if num%(i+1) == 0:\n",
    "                print i+1\n",
    "        break"
   ]
  },
  {
   "cell_type": "code",
   "execution_count": 27,
   "metadata": {
    "collapsed": false
   },
   "outputs": [
    {
     "name": "stdout",
     "output_type": "stream",
     "text": [
      "Enter a value:24\n",
      "Enter b value:8\n",
      "a:(24) is divisible by b:(8 )\n"
     ]
    }
   ],
   "source": [
    "\n",
    "#20. Take two numbers from the user a,b check whether a is divisible by b or not?\n",
    "while True:\n",
    "    try:\n",
    "        x= int(raw_input(\"Enter a value:\"))\n",
    "        y= int(raw_input(\"Enter b value:\"))\n",
    "        def dev(a,b):\n",
    "            if a%b == 0:\n",
    "                 print \"a:({}) is divisible by b:({} )\".format(a,b)\n",
    "            else:\n",
    "                print \" a:({}) is Not divisible by  b:({} ) \".format(a,b)\n",
    "        break\n",
    "    except ValueError:\n",
    "        print \"Invalid Number\"\n",
    "    \n",
    "dev(x,y)"
   ]
  },
  {
   "cell_type": "code",
   "execution_count": 28,
   "metadata": {
    "collapsed": false
   },
   "outputs": [
    {
     "name": "stdout",
     "output_type": "stream",
     "text": [
      "Enter your nameAshok Nuthalapati\n",
      "Enter your age:28\n",
      "'Ashok Nuthalapati' is a teenager  \n"
     ]
    }
   ],
   "source": [
    "# 21. Given an age, figure out whether someone's a baby, toddler, child, teenager, adult or old codger.\n",
    "\n",
    "def age1(a,b):\n",
    "    while True:\n",
    "        try:\n",
    "            name = a\n",
    "            age= b\n",
    "            if age in range(0,1):\n",
    "                     print \"'{}' is a baby  \".format(name)\n",
    "            elif age in range(1,3):\n",
    "                     print \"'{}' is a toddler  \".format(name)\n",
    "            elif age in range(4,13):\n",
    "                     print \"'{}' is a Child  \".format(name)\n",
    "            elif age in range (13,19):\n",
    "                     print \"'{}' is a teenager  \".format(name)\n",
    "            elif age in range (18,59):\n",
    "                      print \"'{}' is a teenager  \".format(name)\n",
    "            elif age >=60:\n",
    "                     print \"'{}' is a old ager \".format(name)\n",
    "            else:\n",
    "                     print \"'{}' is a Human \".format(name)\n",
    "            break\n",
    "        except ValueError:\n",
    "            print \"Invalid Number\"\n",
    "name = raw_input(\"Enter your name\")\n",
    "age= int(raw_input(\"Enter your age:\"))\n",
    "age1(name,age)\n",
    "        "
   ]
  },
  {
   "cell_type": "code",
   "execution_count": 29,
   "metadata": {
    "collapsed": false
   },
   "outputs": [
    {
     "name": "stdout",
     "output_type": "stream",
     "text": [
      "266333\n"
     ]
    }
   ],
   "source": [
    "#22. Find the sum of all the multiples of 3 or 5 below 1000\n",
    "\n",
    "l1=[]\n",
    "l2=[]\n",
    "def sum35(l1,l2):\n",
    "    for i in range(1000):\n",
    "        if i%3 == 0 :\n",
    "            l1.append(i)\n",
    "\n",
    "        if i%5 == 0 :\n",
    "            l2.append(i)\n",
    "    l2.extend(l1)\n",
    "\n",
    "    print sum(l2)\n",
    "\n",
    "sum35(l1,l2)"
   ]
  },
  {
   "cell_type": "code",
   "execution_count": 31,
   "metadata": {
    "collapsed": false
   },
   "outputs": [
    {
     "name": "stdout",
     "output_type": "stream",
     "text": [
      "Enter a value:24\n",
      "Enter b value:24\n",
      "'24.0' and '24.0' are equal\n"
     ]
    },
    {
     "data": {
      "text/plain": [
       "'\\t\\n\\t(or)\\n\\t\\na=float(raw_input(\"Enter a value:\"))\\nb=float(raw_input(\"Enter b value:\"))\\nc=a if a>b else \"equal\" if a==b else b\\nprint \"biggest of given two numbers:\",c\\n'"
      ]
     },
     "execution_count": 31,
     "metadata": {},
     "output_type": "execute_result"
    }
   ],
   "source": [
    "\n",
    "#23. Write a program to findout big of two numbers\n",
    "\n",
    "try:\n",
    "    n = float(raw_input(\"Enter a value:\"))\n",
    "    m = float(raw_input(\"Enter b value:\"))\n",
    "except ValueError:\n",
    "    print \"Please enter valid value \" \n",
    "def big(a,b):\n",
    "    while True:\n",
    "\n",
    "        if a >b:\n",
    "            print \"'{}' is big\".format(a)\n",
    "        elif a==b :\n",
    "             print \"'{}' and '{}' are equal\".format(a,b)\n",
    "        else :\n",
    "            print \"'{}' is big\".format(b)\n",
    "        break        \n",
    "           \n",
    "big(n,m)\n",
    "'''\t\n",
    "\t(or)\n",
    "\t\n",
    "a=float(raw_input(\"Enter a value:\"))\n",
    "b=float(raw_input(\"Enter b value:\"))\n",
    "c=a if a>b else \"equal\" if a==b else b\n",
    "print \"biggest of given two numbers:\",c\n",
    "'''"
   ]
  },
  {
   "cell_type": "code",
   "execution_count": 32,
   "metadata": {
    "collapsed": false
   },
   "outputs": [
    {
     "name": "stdout",
     "output_type": "stream",
     "text": [
      "the biggest number is:  345533\n"
     ]
    }
   ],
   "source": [
    "#24. Write a program to findout biggest number in the given numbers.\n",
    "\n",
    "nums=[21,3,22,244,23,4,345533,353]\n",
    "\n",
    "for i in nums:\n",
    "     while len(nums) != 1:\n",
    "            if nums[0] > nums[1]:\n",
    "                nums.remove(nums[1])\n",
    "            else:\n",
    "                nums.remove(nums[0])\n",
    "print \"the biggest number is: \", nums[0]"
   ]
  },
  {
   "cell_type": "code",
   "execution_count": 33,
   "metadata": {
    "collapsed": false
   },
   "outputs": [
    {
     "name": "stdout",
     "output_type": "stream",
     "text": [
      "Enter a value:97\n",
      "000097 \n"
     ]
    }
   ],
   "source": [
    "'''# 28. WAP> 10 -> 000010\n",
    "       100 ->  000100\n",
    "      1000 ->  001000\n",
    "  2345678  ->  2345678\n",
    "  '''\n",
    "  \n",
    "\n",
    "while True:\n",
    "    try:\n",
    "        a= int(raw_input(\"Enter a value:\"))\n",
    "        print \"%06d \"%a\n",
    "        break\n",
    "\n",
    "    except ValueError:\n",
    "        print \"plz enter a valid value\""
   ]
  },
  {
   "cell_type": "code",
   "execution_count": null,
   "metadata": {
    "collapsed": true
   },
   "outputs": [],
   "source": [
    "#29. names  =\"emp1,emp2,emp3,emp4\" iterate through the employee names.\n",
    "\n",
    "names = \"emp1,emp2,emp3,emp4\"\n",
    "m=[]\n",
    "b=''\n",
    "for a in names:\n",
    "    if a== \",\":\n",
    "        m.append(b)\n",
    "        b=''\n",
    "    else:\n",
    "        b=b+a\n",
    "print m"
   ]
  },
  {
   "cell_type": "code",
   "execution_count": 34,
   "metadata": {
    "collapsed": false
   },
   "outputs": [
    {
     "name": "stdout",
     "output_type": "stream",
     "text": [
      "Sum of all values : 470\n",
      "avg of all values : 47\n",
      "max value is : 90\n",
      "Min value is : 10\n"
     ]
    }
   ],
   "source": [
    "#31. Take numbers from the user and findout min, maximum, sum, average\n",
    "m= [10, 20, 30, 40, 50, 60, 70, 80, 90, 20]\n",
    "\n",
    "def data(*args):\n",
    "    n= sorted(m)\n",
    "    count = 0\n",
    "    for i in m :\n",
    "        count  =  count +i\n",
    "    avg =count /len(m)\n",
    "    print \"Sum of all values :\", count\n",
    "    print \"avg of all values :\",avg\n",
    "    print \"max value is :\", n[len(m)-1]\n",
    "    print \"Min value is :\", n[0]\n",
    "\n",
    "data(m)\n"
   ]
  },
  {
   "cell_type": "code",
   "execution_count": 35,
   "metadata": {
    "collapsed": false
   },
   "outputs": [
    {
     "name": "stdout",
     "output_type": "stream",
     "text": [
      "[10, 20, 30, 40, 50, 60, 70, 80, 90, 20]\n"
     ]
    }
   ],
   "source": [
    "#32. l=[10,20,30,[40,50,60],70,[80,90,20]]. Convert this list as sigle dimentiona list\n",
    "l=[10,20,30,[40,50,60],70,[80,90,20]]\n",
    "b=[]\n",
    "for a in l:\n",
    "    if type(a) == list:\n",
    "        b.extend(a)\n",
    "    else:\n",
    "        b.append(a)\n",
    "print b"
   ]
  },
  {
   "cell_type": "code",
   "execution_count": 37,
   "metadata": {
    "collapsed": false
   },
   "outputs": [
    {
     "name": "stdout",
     "output_type": "stream",
     "text": [
      "e: 1\n",
      "g: 2\n",
      "l: 1\n",
      "o: 2\n"
     ]
    }
   ],
   "source": [
    "#33. input: \"google\" print count of each character.\n",
    "input1 = \"google\"\n",
    "d={}\n",
    "for a in input1:\n",
    "    d[a] = input1.count(a)\n",
    "for k in sorted(d):\n",
    "    print (k + ': ' + str(d[k]))\n",
    "#print d"
   ]
  },
  {
   "cell_type": "code",
   "execution_count": 38,
   "metadata": {
    "collapsed": false
   },
   "outputs": [
    {
     "name": "stdout",
     "output_type": "stream",
     "text": [
      "[1, 2, 1, 2, 3, 22, 11, 33, 44, 12, 33, 44, 444, 45455443, 343434, 43, 4, 123, 23, 23, 4243, 434, 11]\n"
     ]
    }
   ],
   "source": [
    "#34. Convert n dimentional list to single dimentiona list.\n",
    "\n",
    "l= [1,2,[1,2,3,],[22,11,33,44],12,[33,44,444,45455443,343434,43],4,[123,23,23,4243,434],11]\n",
    "b=[]\n",
    "for a in l:\n",
    "    if type(a) == list:\n",
    "        b.extend(a)\n",
    "    else:\n",
    "        b.append(a)\n",
    "print b\t\n",
    "\n"
   ]
  },
  {
   "cell_type": "code",
   "execution_count": 39,
   "metadata": {
    "collapsed": false
   },
   "outputs": [
    {
     "name": "stdout",
     "output_type": "stream",
     "text": [
      "1a23asd1as121as\n"
     ]
    }
   ],
   "source": [
    "#35. l=[1,2,3] just make it as a string.\n",
    "\n",
    "l=[1,'a',23,'asd',[1,\"as\",121,\"as\"]]\n",
    "l2=[]\n",
    "str1=''\n",
    "str2=''\n",
    "def lsttostr(str1,str2):\n",
    "    for a in l:\n",
    "        if type(a) is list:\n",
    "            for b in a:\n",
    "                str2= str2 + str(b)\n",
    "            break\n",
    "        str1 =str1 + str(a)\n",
    "\n",
    "    print str1+str2\n",
    "\n",
    "lsttostr(str1,str2) "
   ]
  },
  {
   "cell_type": "code",
   "execution_count": 40,
   "metadata": {
    "collapsed": false
   },
   "outputs": [
    {
     "name": "stdout",
     "output_type": "stream",
     "text": [
      "[1, 2, 3, 4, 5, 6, 7, 8, 9, 10]\n"
     ]
    }
   ],
   "source": [
    "#36. l=[1,2,3,[4,5,6],7,[8,9,10]] for single dimentional list\n",
    "\n",
    "l=[1,2,3,[4,5,6],7,[8,9,10]]\n",
    "l2=[]\n",
    "def listex():\n",
    "    for a in l:\n",
    "            if type(a) is list:\n",
    "                    l2.extend(a)\n",
    "                    continue    \n",
    "            l2.append(a)     \n",
    "\n",
    "    print l2\n",
    "    \n",
    "listex()\n"
   ]
  },
  {
   "cell_type": "code",
   "execution_count": null,
   "metadata": {
    "collapsed": true
   },
   "outputs": [],
   "source": [
    "#40. WAP to find union and intersection of lists. ############################################################\n",
    "\n",
    "l1=[1,2,3,4,5,22,11,44,12,134,1323]\n",
    "l2=[11,22,33,44,2,3,1]\n",
    "l3=[]\n",
    "\n",
    "\n",
    "def unionf():\n",
    "    for i in l2:\n",
    "        if i not in l1:\n",
    "            l1.append(i)\n",
    "    print \"union of l1 and l2 :{} \".format(l1)\n",
    "    print len(l1)\n",
    "\n",
    "def interf():\n",
    "    for j in l2:\n",
    "        if j in l1:\n",
    "            l3.append(j)\n",
    "            \n",
    "    print \"intesection of l1 and l2 :{} \".format(l3)\n",
    "unionf()\n",
    "interf()\n",
    "\n",
    "'''\n",
    "(or)\n",
    "\n",
    "l1=[1,2,3,4,5]\n",
    "l2=[1,2,3,11,22,22,1,2,3]\n",
    "l3=[]\n",
    "l4=[]\n",
    "def unionf():\n",
    "    l4=list(set(l1).union(set(l2)))\n",
    "    print l4\n",
    "    print len(l4)\n",
    "\n",
    "def interf():\n",
    "    l3=list(set(l1).intersection(set(l2)))\n",
    "    print l3\n",
    "    print len(l3)\n",
    "unionf()\n",
    "interf()\n",
    "'''\n"
   ]
  },
  {
   "cell_type": "code",
   "execution_count": 41,
   "metadata": {
    "collapsed": false
   },
   "outputs": [
    {
     "name": "stdout",
     "output_type": "stream",
     "text": [
      "[1, 2, 3, 4, 5, 6, 5, 4, 3, 2, 1]\n"
     ]
    }
   ],
   "source": [
    "#41. input: fun(5) output: [1,2,3,4,3,2,1]\n",
    "def range1(b):\n",
    "    n=[]\n",
    "    m=[]\n",
    "    for i in range(0,int(b)):\n",
    "        n.append(i+1)\n",
    "    n.pop()\n",
    "    m=n[::-1]\n",
    "    m.pop(0)\n",
    "    \n",
    "    n.extend(m)\n",
    "\n",
    "    print n\n",
    "range1(7)"
   ]
  },
  {
   "cell_type": "code",
   "execution_count": 42,
   "metadata": {
    "collapsed": false
   },
   "outputs": [
    {
     "name": "stdout",
     "output_type": "stream",
     "text": [
      "[1, 2, 3, 4]\n"
     ]
    }
   ],
   "source": [
    "#43. Remove duplicates from the list: a=[1,2,3,2,3,4,1,,3,4]\n",
    "a=[1,2,3,2,3,4,1,3,4]\n",
    "def remdup(list1):\n",
    "    list2=[]\n",
    "    for i in list1:\n",
    "        if i not in list2:\n",
    "            list2.append(i)\n",
    "    return list2\n",
    "print remdup(a)"
   ]
  },
  {
   "cell_type": "code",
   "execution_count": 43,
   "metadata": {
    "collapsed": false
   },
   "outputs": [
    {
     "name": "stdout",
     "output_type": "stream",
     "text": [
      "6\n"
     ]
    }
   ],
   "source": [
    "#44. l=['1','2','3'] get the sum of the list\n",
    "l=['1','2','3']\n",
    "def sum(list1):\n",
    "    l=0\n",
    "    for i in list1:\n",
    "        l+=int(i)\n",
    "    return l\n",
    "print sum(l)"
   ]
  },
  {
   "cell_type": "code",
   "execution_count": 46,
   "metadata": {
    "collapsed": false
   },
   "outputs": [
    {
     "name": "stdout",
     "output_type": "stream",
     "text": [
      "36\n"
     ]
    },
    {
     "data": {
      "text/plain": [
       "'\\n(or)\\n\\n#45. l1=[1,2,3,4] l2=[5,6,7,8] sum of two lists\\nl1=[1,2,3,4] \\nl2=[5,6,7,8]\\nl1.extend(l2)\\nprint sum(l1)\\n'"
      ]
     },
     "execution_count": 46,
     "metadata": {},
     "output_type": "execute_result"
    }
   ],
   "source": [
    "#45. l1=[1,2,3,4] l2=[5,6,7,8] sum of two lists\n",
    "l1=[1,2,3,4] \n",
    "l2=[5,6,7,8]\n",
    "c= sum(l1)+ sum(l2)\n",
    "print c\n",
    "\n",
    "'''\n",
    "(or)\n",
    "\n",
    "#45. l1=[1,2,3,4] l2=[5,6,7,8] sum of two lists\n",
    "l1=[1,2,3,4] \n",
    "l2=[5,6,7,8]\n",
    "l1.extend(l2)\n",
    "print sum(l1)\n",
    "'''"
   ]
  },
  {
   "cell_type": "code",
   "execution_count": 47,
   "metadata": {
    "collapsed": false
   },
   "outputs": [
    {
     "name": "stdout",
     "output_type": "stream",
     "text": [
      "Third max value:  20\n"
     ]
    }
   ],
   "source": [
    "\n",
    "\n",
    "#46. Find third max value of element in a list with sorting and without sorting a list.\n",
    "'''\n",
    "l2=[5,6,7,8,5,6]\n",
    "l2.sort()\n",
    "print \"Third max value is: \",l2[-3]\n",
    "\n",
    "\n",
    "(or)\n",
    "'''\n",
    "\n",
    "l2=[5,7,8,6,10,11,20,25,23]\n",
    "l4=[]\n",
    "index =0 \n",
    "for i in l2:\n",
    "    b= l2.index(max(l2))\n",
    "    c=l2.pop(b)\n",
    "    l4.append(c)\n",
    "print \"Third max value: \",l4[2]"
   ]
  },
  {
   "cell_type": "code",
   "execution_count": 48,
   "metadata": {
    "collapsed": false
   },
   "outputs": [
    {
     "name": "stdout",
     "output_type": "stream",
     "text": [
      "['odd', 'even', 'odd', 'even', 'odd', 'even', 'even', 'even']\n"
     ]
    }
   ],
   "source": [
    "\n",
    "#49. input = 1,2,3,4,5,6,8,10 output = odd,even,odd,even,odd,even,even,even\n",
    "\n",
    "input = 1,2,3,4,5,6,8,10\n",
    "output=[]\n",
    "\n",
    "for i in input:\n",
    "    if type(i) == int:\n",
    "        if i%2 ==0:\n",
    "            output.append(\"even\")\n",
    "        else:\n",
    "            output.append(\"odd\")\n",
    "print output\n"
   ]
  },
  {
   "cell_type": "code",
   "execution_count": 50,
   "metadata": {
    "collapsed": false
   },
   "outputs": [
    {
     "name": "stdout",
     "output_type": "stream",
     "text": [
      "{'e': 1, 'o': 2, 'g': 2, 'l': 1}\n"
     ]
    },
    {
     "data": {
      "text/plain": [
       "'\\n\\ninput1 =\"google\"\\nout={}\\n\\nfor i in input1:\\n    out[i]= input1.count(i)\\nprint out\\n'"
      ]
     },
     "execution_count": 50,
     "metadata": {},
     "output_type": "execute_result"
    }
   ],
   "source": [
    "\n",
    "#51. input: google  \toutput: {'g':2,'o':2,'l':1,'e':1} use dictionary comprehension\n",
    "\n",
    "input1 =\"google\"\n",
    "out={}\n",
    "out ={i:input1.count(i)  for i in input1 }\n",
    "print out\n",
    "\n",
    "\n",
    "'''\n",
    "\n",
    "input1 =\"google\"\n",
    "out={}\n",
    "\n",
    "for i in input1:\n",
    "    out[i]= input1.count(i)\n",
    "print out\n",
    "'''"
   ]
  },
  {
   "cell_type": "code",
   "execution_count": 52,
   "metadata": {
    "collapsed": false
   },
   "outputs": [
    {
     "name": "stdout",
     "output_type": "stream",
     "text": [
      "{'k2': 'v2', 'k1': 'v1'}\n"
     ]
    },
    {
     "data": {
      "text/plain": [
       "\"\\n(or)\\n\\nkeys1 = ['k1','k2']\\nval1 = ['v1','v2']\\ndict1=dict(zip(keys1,val1))\\nprint dict1\\n\\n\""
      ]
     },
     "execution_count": 52,
     "metadata": {},
     "output_type": "execute_result"
    }
   ],
   "source": [
    "#52. keys=['k1','k2'], values = ['v1','v2'] form a dictionary.\n",
    "\n",
    "keys1 = ['k1','k2']\n",
    "val1 = ['v1','v2']\n",
    "dict1={}\n",
    "dict1= {k:v for k,v in zip(keys1,val1)}\n",
    "print dict1\n",
    "\n",
    "'''\n",
    "(or)\n",
    "\n",
    "keys1 = ['k1','k2']\n",
    "val1 = ['v1','v2']\n",
    "dict1=dict(zip(keys1,val1))\n",
    "print dict1\n",
    "\n",
    "'''"
   ]
  },
  {
   "cell_type": "code",
   "execution_count": 54,
   "metadata": {
    "collapsed": false
   },
   "outputs": [
    {
     "name": "stdout",
     "output_type": "stream",
     "text": [
      "[('satish', 90), ('mohan', 80), ('purnesh', 40), ('venkat', 30)]\n"
     ]
    },
    {
     "data": {
      "text/plain": [
       "'\\n(or)\\n\\nmarks = [(\"mohan\", 80), (\"satish\", 90), (\"purnesh\", 40), (\"venkat\", 30)]\\n\\nf =  lambda x :x[-1]\\nprint sorted(marks,key=f,reverse=True)\\n\\n'"
      ]
     },
     "execution_count": 54,
     "metadata": {},
     "output_type": "execute_result"
    }
   ],
   "source": [
    "#53. Sort the list marks = [(\"mohan\", 80), (\"satish\", 90), (\"purnesh\", 40), (\"venkat\", 30)] acording to descending order of marks\n",
    "marks = [(\"mohan\", 80), (\"satish\", 90), (\"purnesh\", 40), (\"venkat\", 30)]\n",
    "def sot(f):\n",
    "    return f[-1]\n",
    "print sorted(marks,key=sot,reverse= True)\n",
    "\n",
    "'''\n",
    "(or)\n",
    "\n",
    "marks = [(\"mohan\", 80), (\"satish\", 90), (\"purnesh\", 40), (\"venkat\", 30)]\n",
    "\n",
    "f =  lambda x :x[-1]\n",
    "print sorted(marks,key=f,reverse=True)\n",
    "\n",
    "'''"
   ]
  },
  {
   "cell_type": "code",
   "execution_count": 55,
   "metadata": {
    "collapsed": false
   },
   "outputs": [
    {
     "name": "stdout",
     "output_type": "stream",
     "text": [
      "enter a value:21\n",
      "perfect numbers are [] \n"
     ]
    }
   ],
   "source": [
    "#55. find out all perfect numbers in given range  ******************************************************(incomplete)\n",
    "\n",
    "number = int(raw_input(\"enter a value:\"))\n",
    "v =0 \n",
    "perfect=[]\n",
    "for i in range(1,number):\n",
    "    if number % i == 0:\n",
    "        v = v +i\n",
    "        if (v == number):\n",
    "            perfect.append(v)\n",
    "print \"perfect numbers are {} \".format(perfect)"
   ]
  },
  {
   "cell_type": "code",
   "execution_count": 56,
   "metadata": {
    "collapsed": false
   },
   "outputs": [
    {
     "name": "stdout",
     "output_type": "stream",
     "text": [
      "[12, 11, 12, 10, 12, 13]\n",
      "Enter a element to remove:12\n",
      "Enter occurence to remove:2\n",
      "[12, 11, 10, 12, 13]\n"
     ]
    }
   ],
   "source": [
    "#58. WAP to remove n occurances of specified element from a list\n",
    "list1 =[12,11,12,10,12,13]\n",
    "b=[]\n",
    "print list1\n",
    "\n",
    "eltore = int(raw_input(\"Enter a element to remove:\"))\n",
    "occr = int(raw_input(\"Enter occurence to remove:\"))\n",
    "\n",
    "count,count1=0,0\n",
    "for i in list1:\n",
    "    count1+=1\n",
    "    if i==eltore:\n",
    "        count+=1\n",
    "        if count == occr:\n",
    "            del list1[count1-1]\n",
    "\n",
    "print list1"
   ]
  },
  {
   "cell_type": "code",
   "execution_count": null,
   "metadata": {
    "collapsed": true
   },
   "outputs": [],
   "source": [
    "#59. copy 1 file content in to another file(Take the source and destination file path from the user)\n",
    "sfname= raw_input(\"Enter source file name:\")\n",
    "dfname= raw_input(\"Enter  destination file:\")\n",
    "f = open(sfname)\n",
    "d= open(dfname,\"w\")\n",
    "for line in f.readlines():\n",
    "    \n",
    "    d.write(line)"
   ]
  },
  {
   "cell_type": "code",
   "execution_count": 59,
   "metadata": {
    "collapsed": false
   },
   "outputs": [
    {
     "ename": "IOError",
     "evalue": "[Errno 2] No such file or directory: 'f1.txt'",
     "output_type": "error",
     "traceback": [
      "\u001b[0;31m---------------------------------------------------------------------------\u001b[0m",
      "\u001b[0;31mIOError\u001b[0m                                   Traceback (most recent call last)",
      "\u001b[0;32m<ipython-input-59-896d915a36f8>\u001b[0m in \u001b[0;36m<module>\u001b[0;34m()\u001b[0m\n\u001b[1;32m      5\u001b[0m \u001b[0mnw\u001b[0m\u001b[1;33m=\u001b[0m\u001b[1;36m0\u001b[0m\u001b[1;33m\u001b[0m\u001b[0m\n\u001b[1;32m      6\u001b[0m \u001b[0mnl\u001b[0m\u001b[1;33m=\u001b[0m\u001b[1;36m0\u001b[0m\u001b[1;33m\u001b[0m\u001b[0m\n\u001b[0;32m----> 7\u001b[0;31m \u001b[1;32mwith\u001b[0m \u001b[0mopen\u001b[0m\u001b[1;33m(\u001b[0m\u001b[0mfilename\u001b[0m\u001b[1;33m,\u001b[0m\u001b[1;34m\"r\"\u001b[0m\u001b[1;33m)\u001b[0m \u001b[1;32mas\u001b[0m \u001b[0mf\u001b[0m\u001b[1;33m:\u001b[0m\u001b[1;33m\u001b[0m\u001b[0m\n\u001b[0m\u001b[1;32m      8\u001b[0m         \u001b[1;32mfor\u001b[0m \u001b[0ma\u001b[0m \u001b[1;32min\u001b[0m \u001b[0mf\u001b[0m\u001b[1;33m:\u001b[0m\u001b[1;33m\u001b[0m\u001b[0m\n\u001b[1;32m      9\u001b[0m             \u001b[0mwords\u001b[0m\u001b[1;33m=\u001b[0m\u001b[0ma\u001b[0m\u001b[1;33m.\u001b[0m\u001b[0msplit\u001b[0m\u001b[1;33m(\u001b[0m\u001b[1;33m)\u001b[0m\u001b[1;33m\u001b[0m\u001b[0m\n",
      "\u001b[0;31mIOError\u001b[0m: [Errno 2] No such file or directory: 'f1.txt'"
     ]
    }
   ],
   "source": [
    "\t\n",
    "#61. number of lines, words, characters\n",
    "filename = \"f1.txt\"\n",
    "nc=0\n",
    "nw=0\n",
    "nl=0\n",
    "with open(filename,\"r\") as f:\n",
    "        for a in f:\n",
    "            words=a.split()\n",
    "            nl += 1\n",
    "            nw += len(words)\n",
    "            nc += len(a)\n",
    "print \"No of lines \",nl\n",
    "print \"No of words\",nw\n",
    "print \"No of chracters\",nc"
   ]
  },
  {
   "cell_type": "code",
   "execution_count": 60,
   "metadata": {
    "collapsed": false
   },
   "outputs": [
    {
     "name": "stdout",
     "output_type": "stream",
     "text": [
      "Intial values [1, 2, 3, 4]\n",
      "After remove duplicate [1, 2, 3, 4]\n"
     ]
    }
   ],
   "source": [
    "\n",
    "\n",
    "#77. Remove duplicates elements of the list withoud using built in keywords and temporary list.\n",
    "def dup(a):\n",
    "    print \"Intial values\",a\n",
    "    a[:]= [ x for x in l1 if l1.count(x)<2 ]\n",
    "    print \"After remove duplicate\",a\n",
    "dup(l1)"
   ]
  },
  {
   "cell_type": "code",
   "execution_count": 61,
   "metadata": {
    "collapsed": false
   },
   "outputs": [
    {
     "name": "stdout",
     "output_type": "stream",
     "text": [
      "Enter a value:3\n",
      "Intial values  [1, 2, 3]\n",
      "2\n",
      "after remove [1, 2]\n"
     ]
    }
   ],
   "source": [
    "#80  WAP to remove perticular element from a given list for all occurancers.\n",
    "\n",
    "l1=[1,2,3]\n",
    "choice=int(raw_input(\"Enter a value:\"))\n",
    "print \"Intial values \",l1 \n",
    "if choice in l1:\n",
    "    for g in range(l1.count(choice)):\n",
    "        ind=l1.index(choice)\n",
    "        print ind\n",
    "        l1.pop(ind)\n",
    "        print \"after remove\", l1"
   ]
  },
  {
   "cell_type": "code",
   "execution_count": 63,
   "metadata": {
    "collapsed": false
   },
   "outputs": [
    {
     "name": "stdout",
     "output_type": "stream",
     "text": [
      "{1: 10, 2: 20, 4: 50, 23: 40}\n"
     ]
    },
    {
     "data": {
      "text/plain": [
       "\"\\n(or)\\n\\nA=[1,2,3,4,5]\\nB=['a','b','c','d','e']\\nitera = iter(A)\\n{k: next(itera) for k in B}\\n\\n(or)\\ndef listtodict(list1, list2):\\n    return {k: list1.pop(0) for k in list2}\\na=[1,2,3,4,5]\\nb=['a','b','c','d','e']\\nc= listtodict(a,b)\\nprint c\\n\\n\""
      ]
     },
     "execution_count": 63,
     "metadata": {},
     "output_type": "execute_result"
    }
   ],
   "source": [
    "\t\n",
    "#81. take two lists keys, values and form a dictionary.\n",
    "\n",
    "l1 = [1,2,23,4,5]\n",
    "l2 = [10,20,40,50]\n",
    "d2=dict(zip(l1,l2))\n",
    "print d2\n",
    "'''\n",
    "(or)\n",
    "\n",
    "A=[1,2,3,4,5]\n",
    "B=['a','b','c','d','e']\n",
    "itera = iter(A)\n",
    "{k: next(itera) for k in B}\n",
    "\t\n",
    "(or)\n",
    "def listtodict(list1, list2):\n",
    "    return {k: list1.pop(0) for k in list2}\n",
    "a=[1,2,3,4,5]\n",
    "b=['a','b','c','d','e']\n",
    "c= listtodict(a,b)\n",
    "print c\n",
    "\n",
    "'''"
   ]
  },
  {
   "cell_type": "code",
   "execution_count": 64,
   "metadata": {
    "collapsed": false
   },
   "outputs": [
    {
     "name": "stdout",
     "output_type": "stream",
     "text": [
      "{'Age': 27, 'Name': 'ashok', 'as': 12, 'hgt': 5.7}\n",
      "Before del : {'Age': 27, 'Name': 'ashok', 'as': 12, 'hgt': 5.7}\n",
      "After del {'as': 12}\n"
     ]
    }
   ],
   "source": [
    "#82. delete more than one key value pair at a time.\n",
    "\n",
    "dict2={\"Name\":\"ashok\",\"Age\":27,\"hgt\":5.7,\"as\":12}\n",
    "def delkey(**kwargs):\n",
    "    print kwargs\n",
    "    print \"Before del :\",dict2\n",
    "    del dict2[\"Name\"],dict2[\"Age\"],dict2[\"hgt\"]\n",
    "    print \"After del\",dict2\n",
    "delkey(**dict2)\n"
   ]
  },
  {
   "cell_type": "code",
   "execution_count": 65,
   "metadata": {
    "collapsed": false
   },
   "outputs": [
    {
     "name": "stdout",
     "output_type": "stream",
     "text": [
      "intersect values : [1, 33]\n",
      "union values  [1, 22, 33, 98, 76, 1, 2, 33, 34, 2, 15, 7, 8]\n",
      "differnce values are : [22, 98, 76]\n"
     ]
    }
   ],
   "source": [
    "#83. find out intersection, union, difference of two list without/with using set\t\n",
    "l1=[1,2,33,34,2,15,7,8]\n",
    "l2=[1,22,33,98,76]\n",
    "l3=[]\n",
    "def instersection(*args):\n",
    "    intersect=[val for val in l1 if val in l2]\n",
    "    print \"intersect values :\",intersect\n",
    "instersection(l1,l2)\n",
    "\n",
    "def union1(*args):\n",
    "    for abc in l1:\n",
    "        l2.append(abc)\n",
    "    print \"union values \",l2\n",
    "union1(l1,l2)\n",
    "\n",
    "def differnce(*args):\n",
    "    for val in l2:\n",
    "        if val  in l1:\n",
    "            pass\n",
    "        else:        \n",
    "           l3.append(val)\n",
    "    print \"differnce values are :\",l3\n",
    "differnce(l1,l2)\n",
    "\n"
   ]
  },
  {
   "cell_type": "code",
   "execution_count": null,
   "metadata": {
    "collapsed": true
   },
   "outputs": [],
   "source": []
  },
  {
   "cell_type": "code",
   "execution_count": null,
   "metadata": {
    "collapsed": true
   },
   "outputs": [],
   "source": []
  }
 ],
 "metadata": {
  "anaconda-cloud": {},
  "kernelspec": {
   "display_name": "Python [default]",
   "language": "python",
   "name": "python2"
  },
  "language_info": {
   "codemirror_mode": {
    "name": "ipython",
    "version": 2
   },
   "file_extension": ".py",
   "mimetype": "text/x-python",
   "name": "python",
   "nbconvert_exporter": "python",
   "pygments_lexer": "ipython2",
   "version": "2.7.12"
  }
 },
 "nbformat": 4,
 "nbformat_minor": 1
}
