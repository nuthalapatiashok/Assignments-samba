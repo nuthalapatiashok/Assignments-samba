{
 "cells": [
  {
   "cell_type": "code",
   "execution_count": 1,
   "metadata": {
    "collapsed": false
   },
   "outputs": [
    {
     "name": "stdout",
     "output_type": "stream",
     "text": [
      "Enter actual string :as\n",
      "Enter substr:as\n",
      "as is subpart of as\n"
     ]
    }
   ],
   "source": [
    "#2. Write a program to chek given substring is there in actual string or not? (search should be case insensitive)\n",
    "\n",
    "actual=raw_input(\"Enter actual string :\").lower()\n",
    "sub=raw_input(\"Enter substr:\").lower()\n",
    "if sub in actual:    \n",
    "        print \"{} is subpart of {}\".format(sub,actual)"
   ]
  }
 ],
 "metadata": {
  "anaconda-cloud": {},
  "kernelspec": {
   "display_name": "Python [default]",
   "language": "python",
   "name": "python2"
  },
  "language_info": {
   "codemirror_mode": {
    "name": "ipython",
    "version": 2
   },
   "file_extension": ".py",
   "mimetype": "text/x-python",
   "name": "python",
   "nbconvert_exporter": "python",
   "pygments_lexer": "ipython2",
   "version": "2.7.12"
  }
 },
 "nbformat": 4,
 "nbformat_minor": 1
}
