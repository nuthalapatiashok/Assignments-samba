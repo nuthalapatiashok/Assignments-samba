{
 "cells": [
  {
   "cell_type": "code",
   "execution_count": 1,
   "metadata": {
    "collapsed": false
   },
   "outputs": [
    {
     "name": "stdout",
     "output_type": "stream",
     "text": [
      "This program will check if the str2 is a substr of str1 else kaBoom!!\n",
      "enter first string: kagalabada\n",
      "enter substring string2: laba\n",
      "str2 is a substr of str1\n"
     ]
    }
   ],
   "source": [
    "#2.write a program to chek given substring is there in actual string or not? (search should be case insensitive)\n",
    "print \"This program will check if the str2 is a substr of str1 else kaBoom!!\"\n",
    "str1 = raw_input(\"enter first string: \")\n",
    "str2 = raw_input(\"enter substring string2: \")\n",
    "\n",
    "if str2 in str1:\n",
    "    print \"str2 is a substr of str1\"\n",
    "else:\n",
    "    print \"str2 is not a substr of str1 Kaboom!!\""
   ]
  },
  {
   "cell_type": "code",
   "execution_count": 2,
   "metadata": {
    "collapsed": false
   },
   "outputs": [
    {
     "name": "stdout",
     "output_type": "stream",
     "text": [
      "enter a number : 12\n",
      "even steven\n"
     ]
    }
   ],
   "source": [
    "#3.take a number from the user and check whether even or odd\n",
    "numb = input(\"enter a number : \")\n",
    "if numb%2 == 0:\n",
    "    print \"even steven\"\n",
    "else:\n",
    "    print \"odd rod\""
   ]
  },
  {
   "cell_type": "code",
   "execution_count": 3,
   "metadata": {
    "collapsed": false
   },
   "outputs": [
    {
     "name": "stdout",
     "output_type": "stream",
     "text": [
      "enter a number to unleash the prime number beast: 11\n",
      "11 is a prime number!!! Beast unleashed\n"
     ]
    }
   ],
   "source": [
    "#4take a number from the user and check whether it is prime\n",
    "a = input(\"enter a number to unleash the prime number beast: \")\n",
    "for i in range(2,a):\n",
    "    if a%i == 0:\n",
    "        print a, \"is NOT a prime number, the beast rests\"\n",
    "        break\n",
    "else:\n",
    "        print a, \"is a prime number!!! Beast unleashed\""
   ]
  },
  {
   "cell_type": "code",
   "execution_count": 4,
   "metadata": {
    "collapsed": false
   },
   "outputs": [
    {
     "name": "stdout",
     "output_type": "stream",
     "text": [
      "Menu \n",
      " 1.Windows \n",
      " 2.Linux \n",
      " 3.Mac \n",
      " 4.quit\n",
      "Enter your choice:3\n",
      "User selected Mac\n",
      "Menu \n",
      " 1.Windows \n",
      " 2.Linux \n",
      " 3.Mac \n",
      " 4.quit\n",
      "Enter your choice:2\n",
      "User selected Linux\n",
      "Menu \n",
      " 1.Windows \n",
      " 2.Linux \n",
      " 3.Mac \n",
      " 4.quit\n",
      "Enter your choice:4\n",
      "Game over\n"
     ]
    }
   ],
   "source": [
    "#10Show the below menu to the user until and until user select quit and display corresponding os message\n",
    "while True:\n",
    "    print \"Menu \\n 1.Windows \\n 2.Linux \\n 3.Mac \\n 4.quit\"\n",
    "    choice = raw_input(\"Enter your choice:\")\n",
    "    if choice == '1':\n",
    "        print \"User selected Windows\"\n",
    "    elif choice == '2':\n",
    "        print \"User selected Linux\"\n",
    "    elif choice == '3':\n",
    "        print \"User selected Mac\"\n",
    "    elif choice == '4':\n",
    "        print \"Game over\"\n",
    "        break   \n",
    "    else:\n",
    "        print \"Invalid selection, Cant see eh?? Choose only from the available options man!!\""
   ]
  },
  {
   "cell_type": "code",
   "execution_count": 5,
   "metadata": {
    "collapsed": false
   },
   "outputs": [
    {
     "name": "stdout",
     "output_type": "stream",
     "text": [
      "Sire Enter your string to unleash a world of knowledge and opportunities:fagatsA12Fgh\n",
      "Sire your string has digits... Stay tuned for plenty more......\n",
      "Sire...no wonder no special char\n",
      "Sire.. your string has upper CASE stuff...\n"
     ]
    }
   ],
   "source": [
    "#5,6,7,8,9,11,12,13,14,15\n",
    "def str_isdig(input_str):\n",
    "    dummy_str=\"\"\n",
    "    for i in input_str:\n",
    "        dummy_str = i\n",
    "        if i.isdigit():\n",
    "            print \"Sire your string has digits... Stay tuned for plenty more......\"\n",
    "            break\n",
    "    else:\n",
    "        print \"sire..... your string has no DIGIT ????!!! only alphaAaa and other various stuff\"\n",
    "\n",
    "def str_special(input_str):   \n",
    "    special_str=\"~`!@#$%^&*()_-+={}[]:>;',</?*-+\"\n",
    "    for i in input_str:\n",
    "        if i in special_str:\n",
    "            print \"Sire... Your string is so full of special chars and stuff....\"\n",
    "            break\n",
    "    else:\n",
    "        print \"Sire...no wonder no special char\"\n",
    "        \n",
    "def str_case(input_str):\n",
    "    for i in input_str:\n",
    "        if i.isupper():\n",
    "            print \"Sire.. your string has upper CASE stuff...\"\n",
    "            break\n",
    "    else:\n",
    "        print \"Sire.. awful... only LOWER case stuff is to be seen\"\n",
    "    \n",
    "    \n",
    "\n",
    "input_str = raw_input(\"Sire Enter your string to unleash a world of knowledge and opportunities:\")\n",
    "str_isdig(input_str);\n",
    "str_special(input_str);\n",
    "str_case(input_str);"
   ]
  },
  {
   "cell_type": "code",
   "execution_count": 6,
   "metadata": {
    "collapsed": false
   },
   "outputs": [
    {
     "name": "stdout",
     "output_type": "stream",
     "text": [
      "How many people you think eh??: 120\n",
      "Soo how many buses: 20\n",
      "Seats man ... per bus: 15\n",
      "no extra buses are required\n"
     ]
    }
   ],
   "source": [
    "#16. Take the input from the user for(Total number of people, toatl number of busses, Number of seats for bus). \n",
    "#    Based on the input Deside whether there is sufficient busses or not and give solution for how many \n",
    "#    extra busses required.\n",
    "import math\n",
    "people = input(\"How many people you think eh??: \")\n",
    "buses = input(\"Soo how many buses: \")\n",
    "seats = input(\"Seats man ... per bus: \")\n",
    "extra_peep,extra_bus = 0,0\n",
    "if people < (buses * seats):\n",
    "    print \"no extra buses are required\"\n",
    "else:\n",
    "    extra_p = people - (buses*seats)\n",
    "    extra_b = float(extra_p)/seats\n",
    "    print \"need {0} more buses for {1} people\".format(int(math.ceil(extra_bus)),extra_peep)"
   ]
  },
  {
   "cell_type": "code",
   "execution_count": 7,
   "metadata": {
    "collapsed": false
   },
   "outputs": [
    {
     "name": "stdout",
     "output_type": "stream",
     "text": [
      "1\n",
      "3\n",
      "5\n",
      "7\n",
      "9\n",
      "11\n",
      "13\n",
      "15\n",
      "17\n",
      "19\n",
      "21\n",
      "23\n",
      "25\n",
      "27\n",
      "29\n",
      "31\n",
      "33\n",
      "35\n",
      "37\n",
      "39\n",
      "41\n",
      "43\n",
      "45\n",
      "47\n",
      "49\n",
      "51\n",
      "53\n",
      "55\n",
      "57\n",
      "59\n",
      "61\n",
      "63\n",
      "65\n",
      "67\n",
      "69\n",
      "71\n",
      "73\n",
      "75\n",
      "77\n",
      "79\n",
      "81\n",
      "83\n",
      "85\n",
      "87\n",
      "89\n",
      "91\n",
      "93\n",
      "95\n",
      "97\n",
      "99\n",
      "101\n",
      "103\n",
      "105\n",
      "107\n",
      "109\n",
      "111\n",
      "113\n",
      "115\n",
      "117\n",
      "119\n",
      "121\n",
      "123\n",
      "125\n",
      "127\n",
      "129\n",
      "131\n",
      "133\n",
      "135\n",
      "137\n",
      "139\n",
      "141\n",
      "143\n",
      "145\n",
      "147\n",
      "149\n",
      "151\n",
      "153\n",
      "155\n",
      "157\n",
      "159\n",
      "161\n",
      "163\n",
      "165\n",
      "167\n",
      "169\n",
      "171\n",
      "173\n",
      "175\n",
      "177\n",
      "179\n",
      "181\n",
      "183\n",
      "185\n",
      "187\n",
      "189\n",
      "191\n",
      "193\n",
      "195\n",
      "197\n",
      "199\n"
     ]
    }
   ],
   "source": [
    "#17. Print the first 100 odd numbers\n",
    "j=0\n",
    "prime_range = 100\n",
    "for i in range(500):\n",
    "    if (i%2)==1:\n",
    "        print i\n",
    "        j+=1\n",
    "        if j >= prime_range:\n",
    "            break"
   ]
  },
  {
   "cell_type": "code",
   "execution_count": 9,
   "metadata": {
    "collapsed": false
   },
   "outputs": [
    {
     "name": "stdout",
     "output_type": "stream",
     "text": [
      "Math Genius!!! enter number to discover its factors: 8\n",
      "1\n",
      "2\n",
      "4\n",
      "8\n"
     ]
    }
   ],
   "source": [
    "#18. Determine the factors of a number entered  by the user\n",
    "while True:\n",
    "        num = input(\"Math Genius!!! enter number to discover its factors: \")\n",
    "        for i in range(num):\n",
    "            if num%(i+1) == 0:\n",
    "                print i+1\n",
    "        break"
   ]
  },
  {
   "cell_type": "code",
   "execution_count": 10,
   "metadata": {
    "collapsed": false
   },
   "outputs": [
    {
     "name": "stdout",
     "output_type": "stream",
     "text": [
      "enter a number b/w 0 to 990 or if you dare x to quit: 33\n",
      "Aha!! gotcha....Lesser, guessed it wrong\n",
      "enter a number b/w 0 to 990 or if you dare x to quit: 555\n",
      "Higher, I know you are fake genius!!\n",
      "enter a number b/w 0 to 990 or if you dare x to quit: x\n",
      "The magician says you had to guess  554\n"
     ]
    }
   ],
   "source": [
    "#19. Play a number guessing game (User enters a guess, you print YES or Higher or Lower)\n",
    "import random\n",
    "num = random.randrange(990)\n",
    "while True:\n",
    "    num1 = raw_input(\"enter a number b/w 0 to 990 or if you dare x to quit: \")\n",
    "    if num1 == \"x\":\n",
    "        print \"The magician says you had to guess \",num\n",
    "        break\n",
    "    elif int(num1)<num:\n",
    "        print \"Aha!! gotcha....Lesser, guessed it wrong\"\n",
    "    elif int(num1)==num:\n",
    "        print \"VOILA!!!, your guess is correct, Genius\"\n",
    "        break\n",
    "    elif int(num1) > num:\n",
    "        print \"Higher, I know you are fake genius!!\""
   ]
  },
  {
   "cell_type": "code",
   "execution_count": 11,
   "metadata": {
    "collapsed": false
   },
   "outputs": [
    {
     "name": "stdout",
     "output_type": "stream",
     "text": [
      "enter first number: 99\n",
      "enter second number(!!not zero mate!!): 4\n",
      "99 is not divisble by 4\n"
     ]
    }
   ],
   "source": [
    "#20. Take two numbers from the user a,b check whether a is divisible by b or not?\n",
    "num1 = input(\"enter first number: \")\n",
    "num2 = input(\"enter second number(!!not zero mate!!): \")\n",
    "if num1%num2 == 0:\n",
    "    print \"{0} is divisble by {1}\".format(num1,num2)\n",
    "else:\n",
    "    print \"{0} is not divisble by {1}\".format(num1,num2)"
   ]
  },
  {
   "cell_type": "code",
   "execution_count": 12,
   "metadata": {
    "collapsed": false
   },
   "outputs": [
    {
     "name": "stdout",
     "output_type": "stream",
     "text": [
      "Welcome!!! Enter A persons age in years to check his stage or x to quit:1\n",
      "A naughty toddler...\n",
      "Welcome!!! Enter A persons age in years to check his stage or x to quit:0\n",
      "Tiny baby it is ....\n",
      "Welcome!!! Enter A persons age in years to check his stage or x to quit:13\n",
      "Teenager it is with rage and in a cage....\n",
      "Welcome!!! Enter A persons age in years to check his stage or x to quit:43\n",
      "Adult .. all grown up eh...\n",
      "Welcome!!! Enter A persons age in years to check his stage or x to quit:68\n",
      "Grumpy old codger\n",
      "Welcome!!! Enter A persons age in years to check his stage or x to quit:x\n"
     ]
    }
   ],
   "source": [
    "#21. Given an age, figure out whether someone's a baby(0-1), toddler(1-2), child(2-12), teenager(13-17), adult(18-59) or old codger(60)\n",
    "while True:\n",
    "    age = raw_input(\"Welcome!!! Enter A persons age in years to check his stage or x to quit:\")\n",
    "    if age == \"x\":\n",
    "        break\n",
    "    elif float(age) <1:\n",
    "        print \"Tiny baby it is ....\"\n",
    "    elif float(age) <2.1:\n",
    "        print \"A naughty toddler...\"\n",
    "    elif float(age) <13:\n",
    "        print \"Whiny child...\"\n",
    "    elif float(age) <18:\n",
    "        print \"Teenager it is with rage and in a cage....\"\n",
    "    elif float(age) <60:\n",
    "        print \"Adult .. all grown up eh...\"\n",
    "    elif float(age) <200:\n",
    "        print \"Grumpy old codger\""
   ]
  },
  {
   "cell_type": "code",
   "execution_count": 13,
   "metadata": {
    "collapsed": false
   },
   "outputs": [
    {
     "name": "stdout",
     "output_type": "stream",
     "text": [
      "sum of all multiples of 3 below 1000 is :  166833\n"
     ]
    }
   ],
   "source": [
    "#22. Find the sum of all the multiples of 3 or 5 below 1000\n",
    "j = 0\n",
    "for i in range(3,1000):\n",
    "    if i%3 == 0:\n",
    "        j += i\n",
    "print \"sum of all multiples of 3 below 1000 is : \",j"
   ]
  },
  {
   "cell_type": "code",
   "execution_count": 14,
   "metadata": {
    "collapsed": false
   },
   "outputs": [
    {
     "name": "stdout",
     "output_type": "stream",
     "text": [
      "enter first number : 12\n",
      "enter second number: 12\n",
      "zing zing Amazing!! equal!! \n"
     ]
    }
   ],
   "source": [
    "#23. Write a program to findout big of two numbers\n",
    "num1 = input(\"enter first number : \")\n",
    "num2 = input(\"enter second number: \")\n",
    "if num1 == num2:\n",
    "    print \"zing zing Amazing!! equal!! \"\n",
    "elif num1 > num2:\n",
    "    print \"{0} is greater than {1}\".format(num1,num2)\n",
    "else:\n",
    "    print \"{1} is greater than {0}\".format(num1,num2)"
   ]
  },
  {
   "cell_type": "code",
   "execution_count": 15,
   "metadata": {
    "collapsed": false
   },
   "outputs": [
    {
     "name": "stdout",
     "output_type": "stream",
     "text": [
      "enter numbers into list one by one: 1\n",
      "enter numbers into list one by one: 4\n",
      "enter numbers into list one by one: 5\n",
      "enter numbers into list one by one: 8\n",
      "enter numbers into list one by one: 9\n",
      "enter numbers into list one by one: \n",
      "[1, 4, 5, 8, 9]\n",
      "biggest number of the list is 9\n"
     ]
    }
   ],
   "source": [
    "#24. Write a program to findout biggest number in the given numbers.\n",
    "list1=[]\n",
    "while True:\n",
    "    x = raw_input(\"enter numbers into list one by one: \")\n",
    "    if x == \"\":\n",
    "        break\n",
    "    else:\n",
    "        list1.append(int(x))\n",
    "print list1\n",
    "for i in range(len(list1)-1,0,-1):\n",
    "    for j in range(i):\n",
    "        if list1[j]>list1[j+1]:\n",
    "            m = list1[j]\n",
    "            list1[j] = list1[j+1]\n",
    "            list1[j+1]=m\n",
    "\n",
    "print \"biggest number of the list is {0}\".format(list1[len(list1)-1])"
   ]
  },
  {
   "cell_type": "code",
   "execution_count": 17,
   "metadata": {
    "collapsed": false
   },
   "outputs": [
    {
     "name": "stdout",
     "output_type": "stream",
     "text": [
      "enter the actual string: hajakakakalaba\n",
      "enter the substring to find: ka\n",
      "third times a charm mate!! 'ka' was at index 8 in 'hajakakakalaba'\n"
     ]
    }
   ],
   "source": [
    "#25. findout third occurance of given substring\n",
    "x=0\n",
    "in_str1 = raw_input(\"enter the actual string: \")\n",
    "substring = raw_input(\"enter the substring to find: \")\n",
    "for i in range(len(in_str1)):\n",
    "    if in_str1[i:i+len(substring)]==substring:\n",
    "        x+=1\n",
    "        if x==3:\n",
    "            print \"third times a charm mate!! '{1}' was at index {0} in '{2}'\".format(i,substring,in_str1)\n",
    "            break\n",
    "        else:\n",
    "            continue\n",
    "else:\n",
    "    print \"'{2}' No 3 times or charm for you and it was {0} times in {1}\".format(x,in_str1,substring)"
   ]
  },
  {
   "cell_type": "code",
   "execution_count": 20,
   "metadata": {
    "collapsed": false
   },
   "outputs": [
    {
     "name": "stdout",
     "output_type": "stream",
     "text": [
      "enter the actual string: kahajalabagakakanaha\n",
      "enter the substring to find: ka\n",
      "enter a number to find substring's occurance in actual string: 2\n",
      "Aha!! gotchaa... 2 occurance of 'ka' at precise location 12 in 'kahajalabagakakanaha'\n"
     ]
    }
   ],
   "source": [
    "#26. findout nth occurance of given substring\n",
    "x=0\n",
    "string1 = raw_input(\"enter the actual string: \")\n",
    "substring = raw_input(\"enter the substring to find: \")\n",
    "occur = input(\"enter a number to find substring's occurance in actual string: \")\n",
    "for i in range(len(string1)):\n",
    "    if string1[i:i+len(substring)]==substring:\n",
    "        x+=1\n",
    "        if x==occur:\n",
    "            print \"Aha!! gotchaa... {3} occurance of '{1}' at precise location {0} in '{2}'\".format(i,substring,string1,occur)\n",
    "            break\n",
    "        else:\n",
    "            continue\n",
    "else:\n",
    "    print \"Bad luck!!! '{2}' was not found {3} times but {0} times in {1}\".format(x,string1,substring,occur)"
   ]
  },
  {
   "cell_type": "code",
   "execution_count": 21,
   "metadata": {
    "collapsed": false
   },
   "outputs": [
    {
     "name": "stdout",
     "output_type": "stream",
     "text": [
      "enter numbers into list slowly: 1\n",
      "enter numbers into list slowly: 6\n",
      "enter numbers into list slowly: 3\n",
      "enter numbers into list slowly: 7\n",
      "enter numbers into list slowly: 9\n",
      "enter numbers into list slowly: \n",
      "[1, 6, 3, 7, 9]\n",
      "Tiny man in list is 1\n",
      "large man of the list is 9\n",
      "sum  26\n",
      "avg. is 5.20\n"
     ]
    }
   ],
   "source": [
    "#27. Taake some single digit numbers from the user and findout min, maximum, sum, average\n",
    "list1=[]\n",
    "while True:\n",
    "    x = raw_input(\"enter numbers into list slowly: \")\n",
    "    if x == \"\":\n",
    "        break\n",
    "    elif len(x)<2:\n",
    "        list1.append(int(x))\n",
    "    else:\n",
    "        print \"Aha!! single digits only, try again\"\n",
    "print list1\n",
    "for i in range(len(list1)-1,0,-1):\n",
    "    for j in range(i):\n",
    "        if list1[j]>list1[j+1]:\n",
    "            m = list1[j]\n",
    "            list1[j] = list1[j+1]\n",
    "            list1[j+1]=m\n",
    "summ = 0            \n",
    "for i in list1:\n",
    "    summ +=i\n",
    "avg = float(summ)/len(list1)\n",
    "print \"Tiny man in list is {0}\".format(list1[0])\n",
    "print \"large man of the list is {0}\".format(list1[len(list1)-1])\n",
    "print \"sum  {0}\".format(summ)\n",
    "print \"avg. is {0:.2f}\".format(avg)"
   ]
  },
  {
   "cell_type": "code",
   "execution_count": 70,
   "metadata": {
    "collapsed": false
   },
   "outputs": [
    {
     "name": "stdout",
     "output_type": "stream",
     "text": [
      "0000010\n",
      "0000100\n",
      "0001000\n",
      "2345678\n"
     ]
    }
   ],
   "source": [
    "#28. WAP> 10 -> 000010\n",
    "#       100 ->  000100\n",
    "#      1000 ->  001000\n",
    "#  2345678  ->  2345678\n",
    "list1 = [10,100,1000,2345678]\n",
    "list2 = []\n",
    "for i in list1:\n",
    "    list2.append(len(str(i)))\n",
    "for i in list1:\n",
    "    print str(i).zfill(max(list2))\n"
   ]
  },
  {
   "cell_type": "code",
   "execution_count": 22,
   "metadata": {
    "collapsed": false
   },
   "outputs": [
    {
     "name": "stdout",
     "output_type": "stream",
     "text": [
      "['emp1', 'emp2', 'emp3', 'emp4']\n"
     ]
    }
   ],
   "source": [
    "#29. names  =\"emp1,emp2,emp3,emp4\" iterate through the employee names.\n",
    "names = \"emp1,emp2,emp3,emp4\"\n",
    "name1=\"\"\n",
    "list1=[]\n",
    "for i in names:\n",
    "    if i==\",\":\n",
    "        list1.append(name1)\n",
    "        name1,i=\"\",\"\"\n",
    "    name1+=i\n",
    "else:\n",
    "    list1.append(name1)\n",
    "print list1"
   ]
  },
  {
   "cell_type": "code",
   "execution_count": null,
   "metadata": {
    "collapsed": true
   },
   "outputs": [],
   "source": [
    "#30. Take actuual string, soucrce string, destination string. replce first nth occurances of soucestring with destination \\\n",
    "#    string "
   ]
  },
  {
   "cell_type": "code",
   "execution_count": 23,
   "metadata": {
    "collapsed": false
   },
   "outputs": [
    {
     "name": "stdout",
     "output_type": "stream",
     "text": [
      "enter numbers into list very slowly!!: 12\n",
      "enter numbers into list very slowly!!: 4\n",
      "enter numbers into list very slowly!!: 144\n",
      "enter numbers into list very slowly!!: \n",
      "[12, 4, 144]\n",
      "Tinay man is 4\n",
      "Large one is 144\n",
      "sum is 160\n",
      "avg. is 53.33\n"
     ]
    }
   ],
   "source": [
    "#31. Taake numbers from the user and findout min, maximum, sum, average\n",
    "list1=[]\n",
    "while True:\n",
    "    x = raw_input(\"enter numbers into list very slowly!!: \")\n",
    "    if x == \"\":\n",
    "        break\n",
    "    else:\n",
    "        list1.append(int(x))\n",
    "print list1\n",
    "for i in range(len(list1)-1,0,-1):\n",
    "    for j in range(i):\n",
    "        if list1[j]>list1[j+1]:\n",
    "            m = list1[j]\n",
    "            list1[j] = list1[j+1]\n",
    "            list1[j+1]=m\n",
    "summ = 0            \n",
    "for i in list1:\n",
    "    summ +=i\n",
    "avg = float(summ)/len(list1)\n",
    "print \"Tinay man is {0}\".format(list1[0])\n",
    "print \"Large one is {0}\".format(list1[len(list1)-1])\n",
    "print \"sum is {0}\".format(summ)\n",
    "print \"avg. is {0:.2f}\".format(avg)"
   ]
  },
  {
   "cell_type": "code",
   "execution_count": 24,
   "metadata": {
    "collapsed": false
   },
   "outputs": [
    {
     "name": "stdout",
     "output_type": "stream",
     "text": [
      "[10, 20, 30, 40, 50, 60, 70, 80, 90, 20]\n"
     ]
    }
   ],
   "source": [
    "#32. l=[10,20,30,[40,50,60],70,[80,90,20]]. Convert this list as sigle dimentiona list\n",
    "l=[10,20,30,[40,50,60],70,[80,90,20]]\n",
    "list1=[]\n",
    "for i in l:\n",
    "    if type(i) in [list,tuple]:\n",
    "        for j in i:\n",
    "            list1.append(j)\n",
    "    else:\n",
    "        list1.append(i)\n",
    "print list1"
   ]
  },
  {
   "cell_type": "code",
   "execution_count": 25,
   "metadata": {
    "collapsed": false
   },
   "outputs": [
    {
     "name": "stdout",
     "output_type": "stream",
     "text": [
      "g repeated 2 times in google\n",
      "o repeated 2 times in google\n",
      "l repeated 1 times in google\n",
      "e repeated 1 times in google\n"
     ]
    }
   ],
   "source": [
    "#33. input: \"google\" print count of each character \n",
    "char = \"google\"\n",
    "list1=[]\n",
    "for i in char:\n",
    "    if i in list1:\n",
    "        continue\n",
    "    list1.append(i)\n",
    "    count = 0\n",
    "    for j in char:\n",
    "        if i == j:\n",
    "            count+=1\n",
    "            \n",
    "        \n",
    "    print \"{0} repeated {1} times in {2}\".format(i,count,char)"
   ]
  },
  {
   "cell_type": "code",
   "execution_count": 34,
   "metadata": {
    "collapsed": false
   },
   "outputs": [
    {
     "name": "stdout",
     "output_type": "stream",
     "text": [
      "[1, 2, 3, [4, 5, 6], 7, [8, 9, 10], 1, 2, 3, 4, 5, 6, 7, 8, 9, 10]\n"
     ]
    }
   ],
   "source": [
    "#34. Convert n dimentional list to single dimentiona list\n",
    "list1=[1,2,3,[4,5,6],7,[8,9,10]]\n",
    "for i in l:\n",
    "    if type(i) in [list,tuple]:\n",
    "        for j in i:\n",
    "            if type(j) in [list,tuple]:\n",
    "                for k in j:\n",
    "                    list1.append(k)\n",
    "            else:\n",
    "                list1.append(j)\n",
    "    else:\n",
    "        list1.append(i)\n",
    "print list1"
   ]
  },
  {
   "cell_type": "code",
   "execution_count": 32,
   "metadata": {
    "collapsed": false
   },
   "outputs": [
    {
     "name": "stdout",
     "output_type": "stream",
     "text": [
      "1234567\n"
     ]
    },
    {
     "data": {
      "text/plain": [
       "str"
      ]
     },
     "execution_count": 32,
     "metadata": {},
     "output_type": "execute_result"
    }
   ],
   "source": [
    "#35. l=[1,2,3] just make it as a string.\n",
    "l=[1,2,3,4,5,6,7]\n",
    "#print str(l)\n",
    "string1 = \"\"\n",
    "for i in l:\n",
    "    string1+=str(i)\n",
    "    \n",
    "print string1\n",
    "type(string1)"
   ]
  },
  {
   "cell_type": "code",
   "execution_count": 33,
   "metadata": {
    "collapsed": false
   },
   "outputs": [
    {
     "name": "stdout",
     "output_type": "stream",
     "text": [
      "[1, 2, 3, 4, 5, 6, 7, 8, 9, 10]\n"
     ]
    }
   ],
   "source": [
    "#36 l=[1,2,3,[4,5,6],7,[8,9,10]] for single dimentional list\n",
    "l=[1,2,3,[4,5,6],7,[8,9,10]] \n",
    "list1=[]\n",
    "for i in l:\n",
    "    if type(i) in [list,tuple]:\n",
    "        for j in i:\n",
    "            list1.append(j)\n",
    "    else:\n",
    "        list1.append(i)\n",
    "print list1"
   ]
  },
  {
   "cell_type": "code",
   "execution_count": 36,
   "metadata": {
    "collapsed": false
   },
   "outputs": [
    {
     "name": "stdout",
     "output_type": "stream",
     "text": [
      "A repeated 5 times in given list\n",
      "b repeated 3 times in given list\n",
      "d repeated 3 times in given list\n",
      "c repeated 2 times in given list\n",
      "enter a character to search in the list: D\n",
      "D found at index 4 in the list\n"
     ]
    }
   ],
   "source": [
    "#37. l=['a','A','b','B','d','D','c','C'] WAP to find out case insensitive count and case insensitive search for an element.\n",
    "l=['A','a','b','B','d','D','a','c','A','C','a','B','d']\n",
    "count=0\n",
    "list1=[]\n",
    "for i in range(len(l)):\n",
    "    count=1\n",
    "    if l[i] not in list1:\n",
    "            for j in l[i+1:]:\n",
    "                if l[i] == j or l[i] == j.lower() or l[i] == j.upper():\n",
    "                    count+=1\n",
    "                    if j not in list1:\n",
    "                        list1.append(j)\n",
    "            if l[i] not in list1:\n",
    "                list1.append(l[i]) \n",
    "            print \"{0} repeated {1} times in given list\".format(l[i],count)\n",
    "\n",
    "search1 = raw_input(\"enter a character to search in the list: \")\n",
    "for m in range(len(l)):\n",
    "    if search1 == l[m] or search1 == l[m].upper() or search1 == l[m].lower():\n",
    "        print \"{1} found at index {0} in the list\".format(m,search1)\n",
    "        break\n",
    "else:\n",
    "    print \"{0} is not in list\".format(search1)"
   ]
  },
  {
   "cell_type": "code",
   "execution_count": 37,
   "metadata": {
    "collapsed": false
   },
   "outputs": [
    {
     "name": "stdout",
     "output_type": "stream",
     "text": [
      "['A', 'B', 'C', 'D', 'a', 'b', 'c', 'd']\n"
     ]
    }
   ],
   "source": [
    "#38.l=['a','A','b','B','d','D','c','C']  sort the list properly\n",
    "list1=['a','A','b','B','d','D','c','C'] \n",
    "for i in range(len(list1)-1,0,-1):\n",
    "    for j in range(i):\n",
    "        if list1[j]>list1[j+1]:\n",
    "            m = list1[j]\n",
    "            list1[j] = list1[j+1]\n",
    "            list1[j+1]=m\n",
    "print list1"
   ]
  },
  {
   "cell_type": "code",
   "execution_count": null,
   "metadata": {
    "collapsed": true
   },
   "outputs": [],
   "source": [
    "#39. find the start position of the largest block of repeated characters in a given string"
   ]
  },
  {
   "cell_type": "code",
   "execution_count": 38,
   "metadata": {
    "collapsed": false
   },
   "outputs": [
    {
     "name": "stdout",
     "output_type": "stream",
     "text": [
      "enter the elements into list1\n",
      "1\n",
      "4\n",
      "6\n",
      "7\n",
      "\n",
      "enter the elements into list2\n",
      "1\n",
      "3\n",
      "6\n",
      "7\n",
      "4\n",
      "\n",
      "list1 is  [1, 4, 6, 7]\n",
      "list2 is  [1, 3, 6, 7, 4]\n",
      "The Holy Union of two lists is  [1, 4, 6, 7, 3]\n",
      "The sinly Intersection of two lists is  [1, 4, 6, 7]\n"
     ]
    }
   ],
   "source": [
    "#40. WAP to find union and intersection of lists.\n",
    "def listinputs():\n",
    "    list1=[]\n",
    "    while True:\n",
    "        x = raw_input(\"\")\n",
    "        if x == \"\":\n",
    "            return list1\n",
    "        else:\n",
    "            list1.append(int(x))\n",
    "\n",
    "def intersection(list1,list2):\n",
    "    list3=[]\n",
    "    for i in list1:\n",
    "        if i in list2 and i not in list3:\n",
    "            list3.append(i)\n",
    "    return list3\n",
    "\n",
    "def union1(list1,list2):\n",
    "    list3=[]\n",
    "    for i in list1:\n",
    "        if i not in list3:\n",
    "            list3.append(i)\n",
    "    for j in list2:\n",
    "        if j not in list3:\n",
    "            list3.append(j)\n",
    "    return list3\n",
    "\n",
    "print \"enter the elements into list1\"\n",
    "list1 = listinputs()\n",
    "print \"enter the elements into list2\"\n",
    "list2 = listinputs()\n",
    "print \"list1 is \",list1\n",
    "print \"list2 is \",list2\n",
    "print \"The Holy Union of two lists is \",union1(list1,list2)\n",
    "print \"The sinly Intersection of two lists is \",intersection(list1,list2)\n"
   ]
  },
  {
   "cell_type": "code",
   "execution_count": 40,
   "metadata": {
    "collapsed": false
   },
   "outputs": [
    {
     "name": "stdout",
     "output_type": "stream",
     "text": [
      "[1, 2, 3, 4, 5, 6, 5, 4, 3, 2, 1]\n"
     ]
    }
   ],
   "source": [
    "#41. input: fun(5) output: [1,2,3,4,3,2,1]\n",
    "def fun(x):\n",
    "    list1 = []\n",
    "    for i in range(x-1):\n",
    "        list1.append(i+1)\n",
    "    for j in range(x-2,0,-1):\n",
    "        list1.append(j)\n",
    "    print list1\n",
    "\n",
    "fun(7)"
   ]
  },
  {
   "cell_type": "code",
   "execution_count": 42,
   "metadata": {
    "collapsed": false
   },
   "outputs": [
    {
     "name": "stdout",
     "output_type": "stream",
     "text": [
      "[1, 2, 3, 4]\n"
     ]
    }
   ],
   "source": [
    "a=[1,2,3,2,3,4,1,3,4]\n",
    "def remdup(list1):\n",
    "    list2=[]\n",
    "    for i in list1:\n",
    "        if i not in list2:\n",
    "            list2.append(i)\n",
    "    return list2\n",
    "print remdup(a)"
   ]
  },
  {
   "cell_type": "code",
   "execution_count": 44,
   "metadata": {
    "collapsed": false
   },
   "outputs": [
    {
     "name": "stdout",
     "output_type": "stream",
     "text": [
      "6\n"
     ]
    }
   ],
   "source": [
    "#44. l=['1','2','3'] get the sum of the list\n",
    "l=['1','2','3']\n",
    "def sum(list1):\n",
    "    l=0\n",
    "    for i in list1:\n",
    "        l+=int(i)\n",
    "    return l\n",
    "print sum(l)"
   ]
  },
  {
   "cell_type": "code",
   "execution_count": 45,
   "metadata": {
    "collapsed": false
   },
   "outputs": [
    {
     "name": "stdout",
     "output_type": "stream",
     "text": [
      "sum of two lists is:  36\n"
     ]
    }
   ],
   "source": [
    "#45. l1=[1,2,3,4] l2=[5,6,7,8] sum of two lists\n",
    "def sum(list1):\n",
    "    l=0\n",
    "    for i in list1:\n",
    "        l+=int(i)\n",
    "    return l\n",
    "l1=[1,2,3,4]\n",
    "l2=[5,6,7,8]\n",
    "print \"sum of two lists is: \",sum(l2)+sum(l1)"
   ]
  },
  {
   "cell_type": "code",
   "execution_count": 46,
   "metadata": {
    "collapsed": false
   },
   "outputs": [
    {
     "name": "stdout",
     "output_type": "stream",
     "text": [
      "enter the list elements:\n",
      "1\n",
      "4\n",
      "7\n",
      "12\n",
      "4\n",
      "\n",
      "[1, 4, 7, 12, 4]\n",
      "third last element in list [1, 4, 4, 7, 12] is 4\n"
     ]
    }
   ],
   "source": [
    "#46. Find third max value of element in a list with soring and without sorting a list.\n",
    "def listinput():\n",
    "    list1=[]\n",
    "    while True:\n",
    "        x = raw_input()\n",
    "        if x == \"\":\n",
    "            break\n",
    "        else:\n",
    "            list1.append(int(x))\n",
    "    return list1\n",
    "    \n",
    "def sort1(list1):\n",
    "    for i in range(len(list1)-1,0,-1):\n",
    "        for j in range(i):\n",
    "            if list1[j]>list1[j+1]:\n",
    "                temp = list1[j]\n",
    "                list1[j]=list1[j+1]\n",
    "                list1[j+1] = temp\n",
    "    return list1\n",
    "print \"enter the list elements:\"\n",
    "list2 = listinput()\n",
    "print list2\n",
    "sortedlist = sort1(list2)\n",
    "print \"third last element in list {0} is {1}\".format(list2,sortedlist[2])"
   ]
  },
  {
   "cell_type": "code",
   "execution_count": null,
   "metadata": {
    "collapsed": true
   },
   "outputs": [],
   "source": [
    "#47. Input = [\"1/1\",\"1/2\",\"1/3\",\"1/4\",\"2/5\",\"2/6\",\"2/8\"] Output = [['1/1-4'], ['2/5-6'], ['2/8']]"
   ]
  },
  {
   "cell_type": "code",
   "execution_count": 64,
   "metadata": {
    "collapsed": false
   },
   "outputs": [
    {
     "name": "stdout",
     "output_type": "stream",
     "text": [
      "List3: [[1, 2, 3], [5], [7, 8, 9, 10, 11, 12, 13], [20], [22, 23, 24, 25, 26, 27], [20, 21, 22], [4]]\n"
     ]
    }
   ],
   "source": [
    "#48. l=[1,2,3,5,7,8,9,10,11,12,13,20,22,23,24,25,26,27,20,21,22,4] \n",
    "#output = [[1, 2, 3], [5], [7, 8, 9, 10, 11, 12, 13], [20], [22, 23, 24, 25, 26, 27], [20, 21, 22], [4]]\n",
    "output = [[1, 2, 3], [5], [7, 8, 9, 10, 11, 12, 13], [20], [22, 23, 24, 25, 26, 27], [20, 21, 22], [4]]\n",
    "l=[1,2,3,5,7,8,9,10,11,12,13,20,22,23,24,25,26,27,20,21,22,4]\n",
    "list2=[]\n",
    "list3=[]\n",
    "i=0\n",
    "while i <=range(len(l)):\n",
    "    if i==len(l)-1:\n",
    "        list3.append(l)\n",
    "        break\n",
    "    elif l[i]+1 != l[i+1]:\n",
    "        i+=1\n",
    "        j=i\n",
    "        list2=l[0:l.index(l[i])]\n",
    "        l=l[l.index(l[i]):]\n",
    "        i=0\n",
    "    else:\n",
    "        i+=1\n",
    "        continue\n",
    "    list3.append(list2)\n",
    "print \"List3:\",list3"
   ]
  },
  {
   "cell_type": "code",
   "execution_count": 47,
   "metadata": {
    "collapsed": false
   },
   "outputs": [
    {
     "name": "stdout",
     "output_type": "stream",
     "text": [
      "['odd', 'even', 'odd', 'even', 'odd', 'even', 'even', 'even']\n"
     ]
    }
   ],
   "source": [
    "#49. input = 1,2,3,4,5,6,8,10 output = odd,even,odd,even,odd,even,even,even\n",
    "def evenodd(x):\n",
    "    if x%2==0:\n",
    "        return \"even\"\n",
    "    else:\n",
    "        return \"odd\"\n",
    "\n",
    "list1=[1,2,3,4,5,6,8,10]\n",
    "list2=[]\n",
    "for i in list1:\n",
    "    list2.append(evenodd(i))\n",
    "\n",
    "print list2"
   ]
  },
  {
   "cell_type": "code",
   "execution_count": 48,
   "metadata": {
    "collapsed": false
   },
   "outputs": [
    {
     "name": "stdout",
     "output_type": "stream",
     "text": [
      "enter the number to print pattern:4\n",
      "1111\n",
      "1001\n",
      "1001\n",
      "1111\n",
      "\n"
     ]
    }
   ],
   "source": [
    "m=\"\"\n",
    "n=input(\"enter the number to print pattern:\")\n",
    "for i in range(n):\n",
    "    for j in range(n):\n",
    "        if i==0 or j==0 or i==n-1 or j == n-1:\n",
    "            m+=\"1\"\n",
    "        else:\n",
    "            m+=\"0\"\n",
    "    m+=\"\\n\"\n",
    "print m"
   ]
  },
  {
   "cell_type": "code",
   "execution_count": 63,
   "metadata": {
    "collapsed": false
   },
   "outputs": [
    {
     "name": "stdout",
     "output_type": "stream",
     "text": [
      "Each character in the word \"google\":\n",
      "{'e': 1, 'o': 2, 'g': 2, 'l': 1}\n"
     ]
    }
   ],
   "source": [
    "#51. input: google   output: {'g':2,'o':2,'l':1,'e':1} use dictionary comprehension\n",
    "input_string = \"google\"\n",
    "count = 0\n",
    "dic = {}\n",
    "for i in input_string:\n",
    "    if i in dic:\n",
    "        dic[i] += 1\n",
    "    else:\n",
    "        dic[i] = 1\n",
    "print \"Each character in the word \\\"%s\\\":\\n\"%(input_string),dic"
   ]
  },
  {
   "cell_type": "code",
   "execution_count": 49,
   "metadata": {
    "collapsed": false
   },
   "outputs": [
    {
     "name": "stdout",
     "output_type": "stream",
     "text": [
      "{'k2': 'v2', 'k1': 'v1'}\n"
     ]
    }
   ],
   "source": [
    "#52. keys=['k1','k2'], values = ['v1','v2'] form a dictionary.\n",
    "def liststodict(keys,values):\n",
    "    dict1={}\n",
    "    for i in range(len(keys)):\n",
    "        dict1[keys[i]]=values[i]\n",
    "    return dict1\n",
    "\n",
    "keys=['k1','k2']\n",
    "values=['v1','v2']\n",
    "print liststodict(keys,values)"
   ]
  },
  {
   "cell_type": "code",
   "execution_count": 50,
   "metadata": {
    "collapsed": false
   },
   "outputs": [
    {
     "name": "stdout",
     "output_type": "stream",
     "text": [
      "satish : 90\n",
      "mohan : 80\n",
      "purnesh : 40\n",
      "venkat : 30\n"
     ]
    }
   ],
   "source": [
    "#53. Sort the list marks = [(\"mohan\", 80), (\"satish\", 90), (\"purnesh\", 40), (\"venkat\", 30)] acording to descending order of marks\n",
    "marks = [(\"mohan\", 80), (\"satish\", 90), (\"purnesh\", 40), (\"venkat\", 30)]\n",
    "dict1={}\n",
    "for i in marks:\n",
    "    dict1[i[1]]=i[0]\n",
    "    \n",
    "#print dict1\n",
    "def sortingfun(list1):\n",
    "    for i in range(len(list1)-1,0,-1):\n",
    "        for j in range(i):\n",
    "            if list1[j]>list1[j+1]:\n",
    "                temp = list1[j]\n",
    "                list1[j] = list1[j+1]\n",
    "                list1[j+1] = temp\n",
    "    return list1\n",
    "\n",
    "sortedlist = sortingfun(dict1.keys())\n",
    "for j in sortedlist[::-1]:\n",
    "    print dict1[j],\":\",j"
   ]
  },
  {
   "cell_type": "code",
   "execution_count": null,
   "metadata": {
    "collapsed": true
   },
   "outputs": [],
   "source": [
    "#54. write a function to get dynamic list for floating numbers also based on start and end and step parameters"
   ]
  },
  {
   "cell_type": "code",
   "execution_count": 51,
   "metadata": {
    "collapsed": false
   },
   "outputs": [
    {
     "name": "stdout",
     "output_type": "stream",
     "text": [
      "This program will find out all perfect numbers\n",
      "enter starting range: 20\n",
      "enter ending range: 70\n",
      "perfect numbers between 20 and 70 are [28]\n"
     ]
    }
   ],
   "source": [
    "#55. find out all perfect numbers in given range\n",
    "print \"This program will find out all perfect numbers\"\n",
    "num1 = input(\"enter starting range: \")\n",
    "num2 = input(\"enter ending range: \")\n",
    "list2=[]\n",
    "for j in range(num1,num2):\n",
    "    list1=[]\n",
    "    for i in range(1,j):\n",
    "        if j%i==0:\n",
    "            list1.append(i)\n",
    "    if sum(list1)==j and list1:\n",
    "        list2.append(j)\n",
    "        #print \"perfect\",j\n",
    "print \"perfect numbers between {0} and {1} are {2}\".format(num1,num2,list2)"
   ]
  },
  {
   "cell_type": "code",
   "execution_count": null,
   "metadata": {
    "collapsed": true
   },
   "outputs": [],
   "source": [
    "#56. WAP to do all stack operations using lists"
   ]
  },
  {
   "cell_type": "code",
   "execution_count": null,
   "metadata": {
    "collapsed": true
   },
   "outputs": [],
   "source": [
    "#57. WAP to do all queue operations using lists"
   ]
  },
  {
   "cell_type": "code",
   "execution_count": null,
   "metadata": {
    "collapsed": true
   },
   "outputs": [],
   "source": [
    "#58. WAP to remove n occurances of specified element from a list"
   ]
  },
  {
   "cell_type": "code",
   "execution_count": 52,
   "metadata": {
    "collapsed": false
   },
   "outputs": [],
   "source": [
    "#59. copy 1 file content in to another file(Take the source and destination file path from the user)"
   ]
  },
  {
   "cell_type": "code",
   "execution_count": null,
   "metadata": {
    "collapsed": true
   },
   "outputs": [],
   "source": [
    "#60. Show the below menu to the user:\n",
    "#    1. Add a row\n",
    "#     2. modify a row\n",
    "#     3. delete a row\n",
    "#     Go with one unique field in the file. And maintain that unique constraint in all file modifiction operations\n",
    "#    Use .CSV file for this program"
   ]
  },
  {
   "cell_type": "code",
   "execution_count": null,
   "metadata": {
    "collapsed": true
   },
   "outputs": [],
   "source": [
    "#61. number of lines, words, characters"
   ]
  },
  {
   "cell_type": "code",
   "execution_count": null,
   "metadata": {
    "collapsed": true
   },
   "outputs": [],
   "source": [
    "#62. convert .txt file in .json"
   ]
  },
  {
   "cell_type": "code",
   "execution_count": 53,
   "metadata": {
    "collapsed": true
   },
   "outputs": [],
   "source": [
    "#63. Take three columns disease, symptoms, advice in a file and fill the details\n",
    "#Ask the user to enter symptoms. Based on this symptoms Suggest the user to what disease it may be and few advices."
   ]
  },
  {
   "cell_type": "code",
   "execution_count": null,
   "metadata": {
    "collapsed": true
   },
   "outputs": [],
   "source": [
    "#64. Take employees info (id,name, age, adress, sal, height, weight)\n",
    "#\ta. Take id, provide employee information for that id.\n",
    "#\tb. find out average salary.\n",
    "#\tc. find out which age, address taking the heighest salary \n",
    "#\td. find out every employee BMI value\n",
    "#\te. Finally find out the Organization overall BMI"
   ]
  },
  {
   "cell_type": "code",
   "execution_count": null,
   "metadata": {
    "collapsed": true
   },
   "outputs": [],
   "source": [
    "#65.read the file which contains the size greater than your ram size\n",
    "\n",
    "with open(\"file.txt\") as f:\n",
    "    for line in f:\n",
    "        chunk = f.read(1024)\n",
    "        if chunk == \"\"\n",
    "        break"
   ]
  },
  {
   "cell_type": "code",
   "execution_count": null,
   "metadata": {
    "collapsed": true
   },
   "outputs": [],
   "source": [
    "#66. Read ten gb movie\n",
    "with open(\"10gb_file.txt\") as f:\n",
    "    for line in f:\n",
    "        f.read(1024)\n",
    "        chunk = f.read(1024)\n",
    "        if chunk == \"\"\n",
    "        break"
   ]
  },
  {
   "cell_type": "code",
   "execution_count": null,
   "metadata": {
    "collapsed": true
   },
   "outputs": [],
   "source": [
    "#67. Collect emp information in a file Provide these operations.    \n",
    "#    Menu:\n",
    "#     1. Get information information of an employee\n",
    "#     2. Modify employee information\n",
    "#     3. delete an employee information (Only status field change in the employee file)\n",
    "#     4. Add an employee."
   ]
  },
  {
   "cell_type": "code",
   "execution_count": null,
   "metadata": {
    "collapsed": true
   },
   "outputs": [],
   "source": [
    "#68. Take Source and destination file paths from command line arguments and copy the sourcontent into destination.\n",
    "#    Make Sure that your program checking the below conditions.\n",
    "#     1.if the source file not there. Should ask the user to enter new source file or want to quit a program\n",
    "#     2.if the destination file already there in the specified path. Should warn the user want to proceed or want to enter new destination file name or want to quit\n"
   ]
  },
  {
   "cell_type": "code",
   "execution_count": null,
   "metadata": {
    "collapsed": true
   },
   "outputs": [],
   "source": [
    "#69. Bulk file copy. \n",
    "#     Take source and destination file paths from a file and copy the source file content into destination file.\n",
    "#     Maintain configuration file and put the below fields there\n",
    "#      Source not found: Skip the copy\n",
    "#      destination found: skip/replace\n",
    "#     maintain a remarks log. What are the files skiped from copy because no source file found. What are the files skip/replaced because of destination file foun in the specified path\n",
    "     "
   ]
  },
  {
   "cell_type": "code",
   "execution_count": null,
   "metadata": {
    "collapsed": true
   },
   "outputs": [],
   "source": [
    "#70. Write a class(DB) program to create a table, insert values, update values, delete values of the table. \n",
    "#All database operations code write in a file(db_operations.py) and call these operations in another file( app.py).\n",
    "#In app.py create instance of the DB class and call all the methods by passing some data.\n"
   ]
  },
  {
   "cell_type": "code",
   "execution_count": null,
   "metadata": {
    "collapsed": true
   },
   "outputs": [],
   "source": [
    "#71. write a program to do registration.\n",
    "#     Write a methods in a class DB to open database connection and insert details in to database table. \n",
    "#Write a Model parent class and implement a create method. Call a database insert method into the create  method. Write child class person for Model and override method create method and call the parent(Model) class create method in the child(person) \n",
    "#create an instance of person class and call the create method.\n"
   ]
  },
  {
   "cell_type": "code",
   "execution_count": 66,
   "metadata": {
    "collapsed": false
   },
   "outputs": [
    {
     "name": "stdout",
     "output_type": "stream",
     "text": [
      "(11,10)\n",
      "(-7,4)\n",
      "(28,0)\n"
     ]
    }
   ],
   "source": [
    "#72. create a user defined datatype, and provide functionalities of addition substraction and multiplication. Create three instances(obj1,obj2,obj3) and print an output of obj1+obj2+obj3, obj1-obj2-obj3, obj1*obj2*obj3  \n",
    "class Operations_Object:\n",
    "    def __init__(self, x = 0, y = 0):\n",
    "        self.x = x\n",
    "        self.y = y\n",
    "    \n",
    "    def __str__(self):\n",
    "        return \"({0},{1})\".format(self.x,self.y)\n",
    "    \n",
    "    def __add__(self,other):\n",
    "        x = self.x + other.x\n",
    "        y = self.y + other.y\n",
    "        return Operations_Object(x,y)\n",
    "    def __sub__(self,other):\n",
    "        x = self.x - other.x\n",
    "        y = self.y - other.y\n",
    "        return Operations_Object(x,y)\n",
    "    def __mul__(self,other):\n",
    "        x = self.x * other.x\n",
    "        y = self.y * other.y\n",
    "        return Operations_Object(x,y)\n",
    "\n",
    "obj1 = Operations_Object(2,7)\n",
    "obj2 = Operations_Object(2,3) \n",
    "obj3 = Operations_Object(7,0)\n",
    "\n",
    "print(obj1 + obj2 + obj3)\n",
    "print(obj1 - obj2 - obj3)\n",
    "print(obj1 * obj2 * obj3)\n"
   ]
  },
  {
   "cell_type": "code",
   "execution_count": 65,
   "metadata": {
    "collapsed": false
   },
   "outputs": [
    {
     "name": "stdout",
     "output_type": "stream",
     "text": [
      "Addition of Two Dictionaries: {1: 10, 3: 50, 4: 40}\n",
      "Subtraction of Two Dictionaries: {1: 10, 3: -10, 4: 40}\n",
      "Multiplication of Two Dictionaries: {1: 10, 3: 600, 4: 40}\n"
     ]
    }
   ],
   "source": [
    "#73. addition, substraction, multiplication operations are not supported by dictionary. Write a program to provide addition, substraction, and  multiplication operations to dictionary. Write your own definition for operations.\n",
    "class dic:\n",
    "    def __init__(self, x = 0):\n",
    "        self.x = x\n",
    "\n",
    "    def __add__(self,other):\n",
    "        d3={}\n",
    "        d3.update(self.x)\n",
    "        for i in other.x:\n",
    "            if i in self.x:\n",
    "                d3[i]=self.x[i]+other.x[i]\n",
    "            else:\n",
    "                d3[i]=other.x[i]\n",
    "        return d3\n",
    "\n",
    "    def __sub__(self,other):\n",
    "        d3={}\n",
    "        d3.update(self.x)\n",
    "        for i in other.x:\n",
    "            if i in self.x:\n",
    "                d3[i]=self.x[i]-other.x[i]\n",
    "            else:\n",
    "                d3[i]=other.x[i]\n",
    "        return d3\n",
    "\n",
    "    def __mul__(self,other):\n",
    "        d3={}\n",
    "        d3.update(self.x)\n",
    "        for i in other.x:\n",
    "            if i in self.x:\n",
    "                d3[i] = self.x[i]*other.x[i]\n",
    "            else:\n",
    "                d3[i]=other.x[i]\n",
    "        return d3\n",
    "                \n",
    "        \n",
    "o1 = dic({1:10,3:20})\n",
    "o2 = dic({3:30,4:40})\n",
    "\n",
    "print \"Addition of Two Dictionaries:\", o1+o2\n",
    "print \"Subtraction of Two Dictionaries:\", o1-o2\n",
    "print \"Multiplication of Two Dictionaries:\", o1*o2"
   ]
  },
  {
   "cell_type": "code",
   "execution_count": 59,
   "metadata": {
    "collapsed": false
   },
   "outputs": [
    {
     "name": "stdout",
     "output_type": "stream",
     "text": [
      "new method in Class1\n",
      "new method in Parent's class\n",
      "init method\n",
      "30\n",
      "new method in Class1\n",
      "Existing object but not new\n",
      "init method\n",
      "300\n",
      "new method in Class1\n",
      "Existing object but not new\n",
      "init method\n",
      "3000\n",
      "IDs of three instances:  58580384 58580384 58580384\n"
     ]
    }
   ],
   "source": [
    "#74. write a class that can create only one object. IF create one more object then it should written existing object but not new. Create three instances and print id’s of the instances. All the id’s should show same address.\n",
    "class Class1(object):\n",
    "    flag = False\n",
    "    def __new__(s,a,b):\n",
    "        print \"new method in Class1\"\n",
    "        if not s.flag:\n",
    "             print \"new method in Parent's class\"\n",
    "             s.flag = super(Class1,s).__new__(s)\n",
    "        else:\n",
    "            print \"Existing object but not new\"\n",
    "        return s.flag\n",
    "             \n",
    "    def __init__(s,a,b):\n",
    "        print \"init method\"\n",
    "        s.a = a\n",
    "        s.b = b\n",
    "        \n",
    "    def get(s):\n",
    "        return s.a+s.b\n",
    "    \n",
    "o1 = Class1(10,20)\n",
    "print o1.get()\n",
    "o2 = Class1(100,200)\n",
    "print o2.get()\n",
    "o3 = Class1(1000,2000)\n",
    "print o3.get()\n",
    "print \"IDs of three instances: \",id(o1),id(o2),id(o3)"
   ]
  },
  {
   "cell_type": "code",
   "execution_count": 71,
   "metadata": {
    "collapsed": false
   },
   "outputs": [
    {
     "name": "stdout",
     "output_type": "stream",
     "text": [
      "12.5663706144\n",
      "12.5663706144\n",
      "150.796447372\n",
      "150.796447372\n",
      "37.6991118431\n"
     ]
    }
   ],
   "source": [
    "#75. implement class method and instance method and static method in a class with an example. Create a instance and call all the methods. Write down what is class method and instance method and static method.\n",
    "\n",
    "import math\n",
    "class Calculation(object):\n",
    "    def __init__(self, radius, height):\n",
    "        self.radius = radius\n",
    "        self.height = height\n",
    " \n",
    "    @staticmethod\n",
    "    def compute_area(radius):\n",
    "         return math.pi *(radius ** 2)\n",
    " \n",
    "    @classmethod\n",
    "    def compute_volume(cls, height, radius):\n",
    "         return height * cls.compute_area(radius)\n",
    " \n",
    "    def get_volume(self):\n",
    "        return self.compute_volume(self.height, self.radius)\n",
    "\n",
    "c = Calculation(2,3)\n",
    "\n",
    "#Static \n",
    "print Calculation.compute_area(2)\n",
    "print c.compute_area(2)\n",
    "#Class \n",
    "print Calculation.compute_volume(3,4)\n",
    "print c.compute_volume(3,4)\n",
    "# Instance \n",
    "print c.get_volume()"
   ]
  },
  {
   "cell_type": "code",
   "execution_count": 67,
   "metadata": {
    "collapsed": false
   },
   "outputs": [
    {
     "name": "stdout",
     "output_type": "stream",
     "text": [
      "Addition:\n",
      "{'age': [23, 45], 'pan': 'brcp3456', 'id': [1, 4], 'name': 'ashok', 'sal': [56787, 23]}\n",
      "\n",
      "Subtraction:\n",
      "{'age': [23, 24], 'id': [1, 2]}\n"
     ]
    }
   ],
   "source": [
    "#76.  write a class program to demonstrate method overloading in python using below scenario.\n",
    "#Write a class and constructor to create an instances like below\n",
    "#\ta. p1 = person(id=1,name=”ashok”,age=23,sal=56787)\n",
    "#            b. p2 = person(id=2,age=24,adhar=23456)\n",
    "#\tc. p3 = person(id=4,pan=”brcp3456”,sal=23,age=45)\t\n",
    "#make instance iterable and provide the operation sp1+p2, p1-p2. Give your own definition for the operations\n",
    "class person(object):\n",
    "    def __init__(self,**kwargs):\n",
    "        self.kwargs = kwargs\n",
    "\n",
    "    def __str__(self):\n",
    "        return \"({0},{1})\".format(self.kwargs,other.kwargs)\n",
    "\n",
    "    def __iter__(self):\n",
    "        self\n",
    "    \n",
    "    def __add__(self,other):\n",
    "        d3={}\n",
    "        d3.update(self.kwargs)\n",
    "        for i in other.kwargs:\n",
    "            if i in self.kwargs:\n",
    "                d3[i]=[self.kwargs[i],other.kwargs[i]]\n",
    "            else:\n",
    "                d3[i]=other.kwargs[i]\n",
    "        return d3\n",
    "\n",
    "    def __sub__(self,other):\n",
    "        d3={}\n",
    "        for i in other.kwargs:\n",
    "            if i in self.kwargs:\n",
    "                d3[i]=[self.kwargs[i],other.kwargs[i]]\n",
    "        return d3\n",
    "\n",
    "        \n",
    "p1 = person(id=1,name=\"ashok\",age=23,sal=56787)\n",
    "p2 = person(id=2,age=24,adhar=23456)\n",
    "p3 = person(id=4,pan=\"brcp3456\",sal=23,age=45)\n",
    "print \"Addition:\\n\",p1+p3\n",
    "print \"\\nSubtraction:\\n\",p1-p2"
   ]
  },
  {
   "cell_type": "code",
   "execution_count": 58,
   "metadata": {
    "collapsed": false
   },
   "outputs": [
    {
     "name": "stdout",
     "output_type": "stream",
     "text": [
      "[3, 2, 1, 3, 4, 5, 6, 7, 8]\n"
     ]
    }
   ],
   "source": [
    "#77. Remove duplicates elements of the list withoud using built in keywords and temporary list.\n",
    "class ListOps:\n",
    "    def __init__(s,list1):\n",
    "        s.list1 = list1\n",
    "        \n",
    "    def dupelements(s):\n",
    "        for i in s.list1:\n",
    "            if i in s.list1[s.list1.index(i)+1:]:\n",
    "                s.list1.remove(i)\n",
    "        return s.list1\n",
    "\n",
    "list1 = [1,1,2,3,4,4,5,2,1,3,4,5,6,7,7,8,8]\n",
    "list_ops = ListOps(list1)\n",
    "print list_ops.dupelements()"
   ]
  },
  {
   "cell_type": "code",
   "execution_count": null,
   "metadata": {
    "collapsed": true
   },
   "outputs": [],
   "source": [
    "#78. WAP to replace perticular number of substings with a given destination string"
   ]
  },
  {
   "cell_type": "code",
   "execution_count": null,
   "metadata": {
    "collapsed": true
   },
   "outputs": [],
   "source": [
    "#79. WAP top remove substring form the given string without using replace function"
   ]
  },
  {
   "cell_type": "code",
   "execution_count": 57,
   "metadata": {
    "collapsed": false
   },
   "outputs": [
    {
     "name": "stdout",
     "output_type": "stream",
     "text": [
      "New list after terminating 2 from [1, 2, 3, 2, 2, 4, 5, 2, 7, 8, 9] is [1, 3, 4, 5, 7, 8, 9] \n"
     ]
    }
   ],
   "source": [
    "#80  WAP to remove perticular element from a given list for all occurancers\n",
    "class ElementRemover():\n",
    "    def __init__(s1,list1,entry):\n",
    "        s1.list1=list1\n",
    "        s1.entry=entry\n",
    "        \n",
    "    def terminator(s1):\n",
    "        list2= []\n",
    "        for i in s1.list1:\n",
    "            if s1.entry != i:\n",
    "                list2.append(i)\n",
    "        return list2\n",
    "\n",
    "list1=[1,2,3,2,2,4,5,2,7,8,9]\n",
    "entry=2\n",
    "ele_rem = ElementRemover(list1,entry)\n",
    "print \"New list after terminating {0} from {1} is {2} \".format(entry,list1,ele_rem.terminator())"
   ]
  },
  {
   "cell_type": "code",
   "execution_count": 56,
   "metadata": {
    "collapsed": false
   },
   "outputs": [
    {
     "name": "stdout",
     "output_type": "stream",
     "text": [
      "{'age': 26, 'name': 'cats', 'id': 34}\n"
     ]
    }
   ],
   "source": [
    "#81. take two lists keys, values and form a dictionary\n",
    "class CreateDict():\n",
    "    def __init__(s1,list1,list2):\n",
    "        s1.keys = list1\n",
    "        s1.values = list2\n",
    "        \n",
    "    def listtodict(s1):\n",
    "        dict1 = {}\n",
    "        for i in range(len(s1.keys)):\n",
    "            dict1[s1.keys[i]] = s1.values[i]\n",
    "        return dict1\n",
    "\n",
    "list1 = [\"name\",\"age\",\"id\"]\n",
    "list2 = [\"cats\",26,34]\n",
    "dict1 = CreateDict(list1,list2)\n",
    "print dict1.listtodict()"
   ]
  },
  {
   "cell_type": "code",
   "execution_count": null,
   "metadata": {
    "collapsed": true
   },
   "outputs": [],
   "source": [
    "#82. delete more than one key value pair at a time."
   ]
  },
  {
   "cell_type": "code",
   "execution_count": 72,
   "metadata": {
    "collapsed": false
   },
   "outputs": [
    {
     "name": "stdout",
     "output_type": "stream",
     "text": [
      "union of [1, 1, 2, 4, 5, 6, 3, 2, 5] and [2, 2, 4, 4, 5, 5, 6, 6, 7, 7] is [1, 2, 4, 5, 6, 3, 7]\n",
      "intersection of [1, 1, 2, 4, 5, 6, 3, 2, 5] and [2, 2, 4, 4, 5, 5, 6, 6, 7, 7] is [2, 4, 5, 6]\n",
      "difference of [1, 1, 2, 4, 5, 6, 3, 2, 5] and [2, 2, 4, 4, 5, 5, 6, 6, 7, 7] is [1, 3, 7]\n"
     ]
    }
   ],
   "source": [
    "#83. find out intersection, union, difference of two list without/with using set\n",
    "class ListOps():\n",
    "    \"\"\"This class can perform list operations like intersection,union,difference\"\"\"\n",
    "    def __init__(s1,list1,list2):\n",
    "        s1.list1 = list1\n",
    "        s1.list2 = list2\n",
    "        \n",
    "    def union1(s1):\n",
    "        \"\"\"\"\"\"\n",
    "        list3 = []\n",
    "        for i in s1.list1:\n",
    "            if i not in list3:\n",
    "                list3.append(i)\n",
    "        for j in s1.list2:\n",
    "            if j not in list3:\n",
    "                list3.append(j)\n",
    "        return list3\n",
    "    \n",
    "    def intersection(s1):\n",
    "        list3 = []\n",
    "        for i in s1.list1:\n",
    "            if i in s1.list2 and i not in list3:\n",
    "                list3.append(i)\n",
    "        return list3\n",
    "    \n",
    "    def difference(s1):\n",
    "        list3 = []\n",
    "        for i in s1.list1:\n",
    "            if i not in s1.list2 and i not in list3:\n",
    "                list3.append(i)\n",
    "        for j in s1.list2:\n",
    "            if j not in s1.list1 and j not in list3:\n",
    "                list3.append(j)\n",
    "        return list3\n",
    "    \n",
    "list1 = [1,1,2,4,5,6,3,2,5]\n",
    "list2 = [2,2,4,4,5,5,6,6,7,7]\n",
    "\n",
    "listopsclass = ListOps(list1,list2)\n",
    "print \"union of {0} and {1} is {2}\".format(list1,list2,listopsclass.union1())\n",
    "print \"intersection of {0} and {1} is {2}\".format(list1,list2,listopsclass.intersection())\n",
    "print \"difference of {0} and {1} is {2}\".format(list1,list2,listopsclass.difference())"
   ]
  },
  {
   "cell_type": "code",
   "execution_count": null,
   "metadata": {
    "collapsed": true
   },
   "outputs": [],
   "source": []
  },
  {
   "cell_type": "code",
   "execution_count": null,
   "metadata": {
    "collapsed": true
   },
   "outputs": [],
   "source": []
  },
  {
   "cell_type": "code",
   "execution_count": null,
   "metadata": {
    "collapsed": true
   },
   "outputs": [],
   "source": []
  }
 ],
 "metadata": {
  "anaconda-cloud": {},
  "kernelspec": {
   "display_name": "Python [Root]",
   "language": "python",
   "name": "Python [Root]"
  },
  "language_info": {
   "codemirror_mode": {
    "name": "ipython",
    "version": 2
   },
   "file_extension": ".py",
   "mimetype": "text/x-python",
   "name": "python",
   "nbconvert_exporter": "python",
   "pygments_lexer": "ipython2",
   "version": "2.7.12"
  }
 },
 "nbformat": 4,
 "nbformat_minor": 0
}
